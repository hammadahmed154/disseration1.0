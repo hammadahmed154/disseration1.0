{
 "cells": [
  {
   "cell_type": "code",
   "execution_count": 11,
   "id": "42507840",
   "metadata": {},
   "outputs": [],
   "source": [
    "a = 10\n",
    "b = 20"
   ]
  },
  {
   "cell_type": "code",
   "execution_count": 2,
   "id": "6dd3d404",
   "metadata": {},
   "outputs": [],
   "source": [
    "c = a + b"
   ]
  },
  {
   "cell_type": "code",
   "execution_count": 3,
   "id": "c8ab70f7",
   "metadata": {},
   "outputs": [
    {
     "name": "stdout",
     "output_type": "stream",
     "text": [
      "30\n"
     ]
    }
   ],
   "source": [
    "print(c)"
   ]
  },
  {
   "cell_type": "code",
   "execution_count": 4,
   "id": "ff3a6012",
   "metadata": {},
   "outputs": [],
   "source": [
    "a = 10"
   ]
  },
  {
   "cell_type": "code",
   "execution_count": 5,
   "id": "d63522e8",
   "metadata": {},
   "outputs": [
    {
     "data": {
      "text/plain": [
       "10"
      ]
     },
     "execution_count": 5,
     "metadata": {},
     "output_type": "execute_result"
    }
   ],
   "source": [
    "a"
   ]
  },
  {
   "cell_type": "code",
   "execution_count": 9,
   "id": "77e97d0d",
   "metadata": {},
   "outputs": [
    {
     "data": {
      "text/plain": [
       "'ask'"
      ]
     },
     "execution_count": 9,
     "metadata": {},
     "output_type": "execute_result"
    }
   ],
   "source": [
    "a = \"ask\"\n",
    "a"
   ]
  },
  {
   "cell_type": "code",
   "execution_count": 7,
   "id": "f1152ab5",
   "metadata": {},
   "outputs": [
    {
     "data": {
      "text/plain": [
       "2.0"
      ]
     },
     "execution_count": 7,
     "metadata": {},
     "output_type": "execute_result"
    }
   ],
   "source": [
    "a = 2.0\n",
    "a"
   ]
  },
  {
   "cell_type": "code",
   "execution_count": 12,
   "id": "2f3d437a",
   "metadata": {},
   "outputs": [
    {
     "name": "stdout",
     "output_type": "stream",
     "text": [
      "30\n"
     ]
    }
   ],
   "source": [
    "print(a+b)"
   ]
  },
  {
   "cell_type": "code",
   "execution_count": 13,
   "id": "e0d87cbf",
   "metadata": {},
   "outputs": [
    {
     "data": {
      "text/plain": [
       "30"
      ]
     },
     "execution_count": 13,
     "metadata": {},
     "output_type": "execute_result"
    }
   ],
   "source": [
    "10 + 20"
   ]
  },
  {
   "cell_type": "code",
   "execution_count": 19,
   "id": "967e4318",
   "metadata": {},
   "outputs": [],
   "source": [
    "a = \"10\"\n",
    "b = \"ask\""
   ]
  },
  {
   "cell_type": "code",
   "execution_count": 20,
   "id": "f1e52dde",
   "metadata": {},
   "outputs": [
    {
     "data": {
      "text/plain": [
       "'10ask'"
      ]
     },
     "execution_count": 20,
     "metadata": {},
     "output_type": "execute_result"
    }
   ],
   "source": [
    "a + b"
   ]
  },
  {
   "cell_type": "code",
   "execution_count": 22,
   "id": "491485d4",
   "metadata": {},
   "outputs": [],
   "source": [
    "a = [1,2,3,5,9,0]"
   ]
  },
  {
   "cell_type": "code",
   "execution_count": 25,
   "id": "50a34891",
   "metadata": {},
   "outputs": [
    {
     "data": {
      "text/plain": [
       "9"
      ]
     },
     "execution_count": 25,
     "metadata": {},
     "output_type": "execute_result"
    }
   ],
   "source": [
    "a[4]"
   ]
  },
  {
   "cell_type": "code",
   "execution_count": 29,
   "id": "8c580780",
   "metadata": {},
   "outputs": [],
   "source": [
    "a = [\"hammad\",\"titu\",\"sexy\"]\n",
    "b = [\"hammad1\",\"titu2\",\"sexy2\"]\n",
    "c = [\"hammad3\",\"tit3\",\"sexy3\"]"
   ]
  },
  {
   "cell_type": "code",
   "execution_count": 27,
   "id": "9cafd653",
   "metadata": {},
   "outputs": [
    {
     "data": {
      "text/plain": [
       "'hammad'"
      ]
     },
     "execution_count": 27,
     "metadata": {},
     "output_type": "execute_result"
    }
   ],
   "source": [
    "a[0]"
   ]
  },
  {
   "cell_type": "code",
   "execution_count": 28,
   "id": "c78fc2a1",
   "metadata": {},
   "outputs": [
    {
     "data": {
      "text/plain": [
       "'sexy'"
      ]
     },
     "execution_count": 28,
     "metadata": {},
     "output_type": "execute_result"
    }
   ],
   "source": [
    "a[2]\n"
   ]
  },
  {
   "cell_type": "code",
   "execution_count": 30,
   "id": "ea65a7f1",
   "metadata": {},
   "outputs": [
    {
     "data": {
      "text/plain": [
       "'tit3'"
      ]
     },
     "execution_count": 30,
     "metadata": {},
     "output_type": "execute_result"
    }
   ],
   "source": [
    "a[1]\n",
    "b[1]\n",
    "c[1]"
   ]
  },
  {
   "cell_type": "code",
   "execution_count": 33,
   "id": "57901804",
   "metadata": {},
   "outputs": [
    {
     "name": "stdout",
     "output_type": "stream",
     "text": [
      "titu titu2 tit3\n"
     ]
    }
   ],
   "source": [
    "print(a[1],b[1],c[1])"
   ]
  },
  {
   "cell_type": "code",
   "execution_count": 34,
   "id": "9de448fe",
   "metadata": {},
   "outputs": [],
   "source": [
    "a = [1,2,3,5,9,0]"
   ]
  },
  {
   "cell_type": "code",
   "execution_count": 36,
   "id": "fb1c6e1b",
   "metadata": {},
   "outputs": [
    {
     "name": "stdout",
     "output_type": "stream",
     "text": [
      "1\n",
      "2\n",
      "3\n",
      "5\n",
      "9\n",
      "0\n"
     ]
    }
   ],
   "source": [
    "for i in range(6):\n",
    "    print(a[i])"
   ]
  },
  {
   "cell_type": "code",
   "execution_count": 39,
   "id": "8f76265d",
   "metadata": {},
   "outputs": [],
   "source": [
    "a = [1,2,3,5,9,0]"
   ]
  },
  {
   "cell_type": "code",
   "execution_count": 41,
   "id": "2d1591bd",
   "metadata": {},
   "outputs": [
    {
     "name": "stdout",
     "output_type": "stream",
     "text": [
      "1\n",
      "2\n",
      "3\n",
      "5\n",
      "9\n",
      "0\n"
     ]
    }
   ],
   "source": [
    "for i in range(6):\n",
    "    print(a[i])"
   ]
  },
  {
   "cell_type": "code",
   "execution_count": 43,
   "id": "89bef146",
   "metadata": {},
   "outputs": [],
   "source": [
    "a = [1,2,3,5,9,0]\n",
    "b = [11,20,30,50,90,10]"
   ]
  },
  {
   "cell_type": "code",
   "execution_count": 46,
   "id": "6fdeabaa",
   "metadata": {},
   "outputs": [
    {
     "name": "stdout",
     "output_type": "stream",
     "text": [
      "12\n",
      "22\n",
      "33\n",
      "55\n",
      "99\n",
      "10\n"
     ]
    }
   ],
   "source": [
    "for i in range(6):\n",
    "    \n",
    "    print(a[i]+b[i])\n",
    "\n"
   ]
  },
  {
   "cell_type": "code",
   "execution_count": 47,
   "id": "84f45739",
   "metadata": {},
   "outputs": [],
   "source": [
    "a = [1,2,3,5,9,0,\"hammad\"]"
   ]
  },
  {
   "cell_type": "code",
   "execution_count": 48,
   "id": "65fd89ce",
   "metadata": {},
   "outputs": [],
   "source": [
    "a = [1,2,3,5,9,0]"
   ]
  },
  {
   "cell_type": "code",
   "execution_count": 52,
   "id": "f1a93d3b",
   "metadata": {},
   "outputs": [
    {
     "data": {
      "text/plain": [
       "[0, 1, 2, 3, 5, 9]"
      ]
     },
     "execution_count": 52,
     "metadata": {},
     "output_type": "execute_result"
    }
   ],
   "source": [
    "a.sort()\n",
    "a"
   ]
  },
  {
   "cell_type": "code",
   "execution_count": 2,
   "id": "f7e4c646",
   "metadata": {},
   "outputs": [],
   "source": [
    "a = [1,2,3,5,9,0]"
   ]
  },
  {
   "cell_type": "code",
   "execution_count": 3,
   "id": "7433d8a3",
   "metadata": {},
   "outputs": [
    {
     "data": {
      "text/plain": [
       "20"
      ]
     },
     "execution_count": 3,
     "metadata": {},
     "output_type": "execute_result"
    }
   ],
   "source": [
    "sum(a)"
   ]
  },
  {
   "cell_type": "code",
   "execution_count": 4,
   "id": "7f1c1336",
   "metadata": {},
   "outputs": [],
   "source": [
    "uid = ['hammad','hidie','ssy']"
   ]
  },
  {
   "cell_type": "code",
   "execution_count": 5,
   "id": "448bc278",
   "metadata": {},
   "outputs": [],
   "source": [
    "pswd = ['33','444']"
   ]
  },
  {
   "cell_type": "code",
   "execution_count": 11,
   "id": "278808f3",
   "metadata": {},
   "outputs": [],
   "source": [
    "p1 = dict(uid='ssy',psd='222')\n",
    "p2 = dict(uid='hiddie',psd='333')"
   ]
  },
  {
   "cell_type": "code",
   "execution_count": 13,
   "id": "0f0714b7",
   "metadata": {},
   "outputs": [
    {
     "data": {
      "text/plain": [
       "'ssy'"
      ]
     },
     "execution_count": 13,
     "metadata": {},
     "output_type": "execute_result"
    }
   ],
   "source": [
    "p1['uid']"
   ]
  },
  {
   "cell_type": "code",
   "execution_count": 14,
   "id": "ecfda8c8",
   "metadata": {},
   "outputs": [
    {
     "data": {
      "text/plain": [
       "'222'"
      ]
     },
     "execution_count": 14,
     "metadata": {},
     "output_type": "execute_result"
    }
   ],
   "source": [
    "p1['psd']"
   ]
  },
  {
   "cell_type": "code",
   "execution_count": 25,
   "id": "dc64ff9c",
   "metadata": {},
   "outputs": [],
   "source": [
    "person1 = dict(name=\"ssy\",addr=\"uxbridge\",income=1000,code='ub670')\n",
    "person2 = dict(name=\"tty\",addr=\"reding\",income=5000,code='bx670')\n",
    "person3 = dict(name=\"swty\",addr=\"sire\",income=3000,code='tx670')"
   ]
  },
  {
   "cell_type": "code",
   "execution_count": 18,
   "id": "58329ffc",
   "metadata": {},
   "outputs": [
    {
     "data": {
      "text/plain": [
       "'ssy'"
      ]
     },
     "execution_count": 18,
     "metadata": {},
     "output_type": "execute_result"
    }
   ],
   "source": [
    "person1['name']"
   ]
  },
  {
   "cell_type": "code",
   "execution_count": 19,
   "id": "3594eb22",
   "metadata": {},
   "outputs": [
    {
     "data": {
      "text/plain": [
       "'uxbridge'"
      ]
     },
     "execution_count": 19,
     "metadata": {},
     "output_type": "execute_result"
    }
   ],
   "source": [
    "person1['addr']"
   ]
  },
  {
   "cell_type": "code",
   "execution_count": 20,
   "id": "22129a9d",
   "metadata": {},
   "outputs": [],
   "source": [
    "person1['addr'] = 'central'"
   ]
  },
  {
   "cell_type": "code",
   "execution_count": 21,
   "id": "b278d5a6",
   "metadata": {},
   "outputs": [
    {
     "data": {
      "text/plain": [
       "{'name': 'ssy', 'addr': 'central', 'income': 1000, 'code': 'ub670'}"
      ]
     },
     "execution_count": 21,
     "metadata": {},
     "output_type": "execute_result"
    }
   ],
   "source": [
    "person1"
   ]
  },
  {
   "cell_type": "code",
   "execution_count": 22,
   "id": "7884235a",
   "metadata": {},
   "outputs": [],
   "source": [
    "person1 = dict(name=\"ssy\",addr=['central','ub5678'],income=1000)\n"
   ]
  },
  {
   "cell_type": "code",
   "execution_count": 24,
   "id": "2eca25c1",
   "metadata": {},
   "outputs": [
    {
     "data": {
      "text/plain": [
       "'central'"
      ]
     },
     "execution_count": 24,
     "metadata": {},
     "output_type": "execute_result"
    }
   ],
   "source": [
    "person1['addr'][0]"
   ]
  },
  {
   "cell_type": "code",
   "execution_count": 26,
   "id": "822c7a34",
   "metadata": {},
   "outputs": [],
   "source": [
    "details = [person1,person2,person3]"
   ]
  },
  {
   "cell_type": "code",
   "execution_count": 27,
   "id": "2827b934",
   "metadata": {},
   "outputs": [
    {
     "data": {
      "text/plain": [
       "[{'name': 'ssy', 'addr': 'uxbridge', 'income': 1000, 'code': 'ub670'},\n",
       " {'name': 'tty', 'addr': 'reding', 'income': 5000, 'code': 'bx670'},\n",
       " {'name': 'swty', 'addr': 'sire', 'income': 3000, 'code': 'tx670'}]"
      ]
     },
     "execution_count": 27,
     "metadata": {},
     "output_type": "execute_result"
    }
   ],
   "source": [
    "details"
   ]
  },
  {
   "cell_type": "code",
   "execution_count": 30,
   "id": "b5c62900",
   "metadata": {},
   "outputs": [
    {
     "name": "stdout",
     "output_type": "stream",
     "text": [
      "{'name': 'ssy', 'addr': 'uxbridge', 'income': 1000, 'code': 'ub670'}\n",
      "{'name': 'tty', 'addr': 'reding', 'income': 5000, 'code': 'bx670'}\n",
      "{'name': 'swty', 'addr': 'sire', 'income': 3000, 'code': 'tx670'}\n"
     ]
    }
   ],
   "source": [
    "for i in range(3):\n",
    "    print(details[i])"
   ]
  },
  {
   "cell_type": "code",
   "execution_count": 32,
   "id": "82c11d02",
   "metadata": {},
   "outputs": [
    {
     "name": "stdout",
     "output_type": "stream",
     "text": [
      "ssy\n",
      "tty\n",
      "swty\n"
     ]
    }
   ],
   "source": [
    "for i in range(3):\n",
    "    print(details[i]['name'])\n",
    "   "
   ]
  },
  {
   "cell_type": "code",
   "execution_count": 35,
   "id": "95d83d28",
   "metadata": {},
   "outputs": [],
   "source": [
    "d1 = dict(uid=\"sty\",psd = '22')\n",
    "d2 = dict(uid=\"pty\",psd = '11')"
   ]
  },
  {
   "cell_type": "code",
   "execution_count": 36,
   "id": "68471bfb",
   "metadata": {},
   "outputs": [
    {
     "data": {
      "text/plain": [
       "'sty'"
      ]
     },
     "execution_count": 36,
     "metadata": {},
     "output_type": "execute_result"
    }
   ],
   "source": [
    "d1['uid']"
   ]
  },
  {
   "cell_type": "code",
   "execution_count": 37,
   "id": "2322887d",
   "metadata": {},
   "outputs": [],
   "source": [
    "a = [1,2,3,5,9,0]"
   ]
  },
  {
   "cell_type": "code",
   "execution_count": 40,
   "id": "41dd634f",
   "metadata": {},
   "outputs": [],
   "source": [
    "a[3] = 0"
   ]
  },
  {
   "cell_type": "code",
   "execution_count": 41,
   "id": "f37f53c8",
   "metadata": {},
   "outputs": [
    {
     "data": {
      "text/plain": [
       "[1, 2, 3, 0, 9, 0]"
      ]
     },
     "execution_count": 41,
     "metadata": {},
     "output_type": "execute_result"
    }
   ],
   "source": [
    "a"
   ]
  },
  {
   "cell_type": "code",
   "execution_count": 42,
   "id": "3221336d",
   "metadata": {},
   "outputs": [],
   "source": [
    "a = [1,2,3,5,9,0]\n",
    "b = [11,20,30,50,90,10]"
   ]
  },
  {
   "cell_type": "code",
   "execution_count": 43,
   "id": "f0481edb",
   "metadata": {},
   "outputs": [
    {
     "name": "stdout",
     "output_type": "stream",
     "text": [
      "12\n",
      "22\n",
      "33\n",
      "55\n",
      "99\n",
      "10\n"
     ]
    }
   ],
   "source": [
    "for i in range (6) :\n",
    "    print (a[i]+b[i])\n"
   ]
  },
  {
   "cell_type": "code",
   "execution_count": 44,
   "id": "efda1695",
   "metadata": {},
   "outputs": [
    {
     "name": "stdout",
     "output_type": "stream",
     "text": [
      "11\n",
      "40\n",
      "90\n",
      "250\n",
      "810\n",
      "0\n"
     ]
    }
   ],
   "source": [
    "for i in range (6) :\n",
    "    print (a[i]*b[i])"
   ]
  },
  {
   "cell_type": "code",
   "execution_count": 50,
   "id": "1fc43a87",
   "metadata": {},
   "outputs": [],
   "source": [
    "a = [1,2,0,5,9,0]\n",
    "b = [11,20,30,50,90,10]"
   ]
  },
  {
   "cell_type": "code",
   "execution_count": 56,
   "id": "cdeecbcb",
   "metadata": {},
   "outputs": [
    {
     "name": "stdout",
     "output_type": "stream",
     "text": [
      "11.0\n",
      "10.0\n",
      "10.0\n",
      "10.0\n"
     ]
    }
   ],
   "source": [
    "for i in range (6) :\n",
    "    if a[i] == 0:\n",
    "        continue\n",
    "    else:\n",
    "        \n",
    "        print (b[i]/a[i])"
   ]
  },
  {
   "cell_type": "code",
   "execution_count": 54,
   "id": "60cc1aac",
   "metadata": {},
   "outputs": [
    {
     "data": {
      "text/plain": [
       "False"
      ]
     },
     "execution_count": 54,
     "metadata": {},
     "output_type": "execute_result"
    }
   ],
   "source": [
    " 30 == 10"
   ]
  },
  {
   "cell_type": "code",
   "execution_count": 57,
   "id": "71ada532",
   "metadata": {},
   "outputs": [],
   "source": [
    "b = [11,20,30,50,90,10]"
   ]
  },
  {
   "cell_type": "code",
   "execution_count": 58,
   "id": "12db32b3",
   "metadata": {},
   "outputs": [
    {
     "name": "stdout",
     "output_type": "stream",
     "text": [
      "11\n",
      "20\n",
      "30\n",
      "50\n",
      "90\n",
      "10\n"
     ]
    }
   ],
   "source": [
    "for i in range (6) :\n",
    "    print (b[i])"
   ]
  },
  {
   "cell_type": "code",
   "execution_count": 60,
   "id": "87b25048",
   "metadata": {},
   "outputs": [
    {
     "name": "stdout",
     "output_type": "stream",
     "text": [
      "*\n",
      "*\n",
      "*\n",
      "50\n",
      "90\n",
      "*\n"
     ]
    }
   ],
   "source": [
    "for i in range (6) :\n",
    "    if b[i]  > 30 :\n",
    "        print (b[i])\n",
    "    else:\n",
    "        print(\"*\")\n",
    "   \n",
    "        "
   ]
  },
  {
   "cell_type": "code",
   "execution_count": 61,
   "id": "3565fa15",
   "metadata": {},
   "outputs": [],
   "source": [
    "b = [11,20,30,50,90,10]"
   ]
  },
  {
   "cell_type": "code",
   "execution_count": 62,
   "id": "f91ebfb2",
   "metadata": {},
   "outputs": [
    {
     "name": "stdout",
     "output_type": "stream",
     "text": [
      "50\n",
      "90\n"
     ]
    }
   ],
   "source": [
    "for i in range (6) :\n",
    "    if b[i]  > 30 :\n",
    "        print (b[i])\n",
    "    else:\n",
    "        b[i]= b[i]+5"
   ]
  },
  {
   "cell_type": "code",
   "execution_count": 63,
   "id": "ae146ca2",
   "metadata": {},
   "outputs": [
    {
     "data": {
      "text/plain": [
       "[16, 25, 35, 50, 90, 15]"
      ]
     },
     "execution_count": 63,
     "metadata": {},
     "output_type": "execute_result"
    }
   ],
   "source": [
    "b"
   ]
  },
  {
   "cell_type": "code",
   "execution_count": 64,
   "id": "1e33b382",
   "metadata": {},
   "outputs": [
    {
     "name": "stdout",
     "output_type": "stream",
     "text": [
      "35\n",
      "50\n",
      "90\n"
     ]
    }
   ],
   "source": [
    "for i in range (6) :\n",
    "    if b[i]  > 30 :\n",
    "        print (b[i])\n",
    "    else:\n",
    "        b[i]= b[i]*2"
   ]
  },
  {
   "cell_type": "code",
   "execution_count": 72,
   "id": "81ee5b75",
   "metadata": {},
   "outputs": [],
   "source": [
    "b = [11,22,3,5,90,10]"
   ]
  },
  {
   "cell_type": "code",
   "execution_count": 68,
   "id": "c357a9d0",
   "metadata": {},
   "outputs": [],
   "source": [
    "for i in range (6) :\n",
    "    b[i] = b[i] + 10"
   ]
  },
  {
   "cell_type": "code",
   "execution_count": 69,
   "id": "3ff53dcb",
   "metadata": {},
   "outputs": [
    {
     "data": {
      "text/plain": [
       "[21, 30, 40, 60, 100, 20]"
      ]
     },
     "execution_count": 69,
     "metadata": {},
     "output_type": "execute_result"
    }
   ],
   "source": [
    "b"
   ]
  },
  {
   "cell_type": "code",
   "execution_count": 73,
   "id": "59a5af59",
   "metadata": {},
   "outputs": [],
   "source": [
    "for i in range (6) :\n",
    "    if b[i] % 2 == 0 :\n",
    "        b[i] = b[i]*2"
   ]
  },
  {
   "cell_type": "code",
   "execution_count": 74,
   "id": "ad73c1f1",
   "metadata": {},
   "outputs": [
    {
     "data": {
      "text/plain": [
       "[11, 44, 3, 5, 180, 20]"
      ]
     },
     "execution_count": 74,
     "metadata": {},
     "output_type": "execute_result"
    }
   ],
   "source": [
    "b"
   ]
  },
  {
   "cell_type": "code",
   "execution_count": 83,
   "id": "cf1ca868",
   "metadata": {},
   "outputs": [
    {
     "name": "stdout",
     "output_type": "stream",
     "text": [
      "3\n",
      "4\n",
      "5\n",
      "6\n",
      "7\n",
      "8\n"
     ]
    }
   ],
   "source": [
    "for i in range(3,9,1):\n",
    "    print(i)"
   ]
  },
  {
   "cell_type": "code",
   "execution_count": 78,
   "id": "a4caaf38",
   "metadata": {},
   "outputs": [
    {
     "name": "stdout",
     "output_type": "stream",
     "text": [
      "0\n",
      "1\n",
      "2\n",
      "3\n",
      "4\n",
      "5\n",
      "6\n",
      "7\n",
      "8\n"
     ]
    }
   ],
   "source": [
    "for i in range(9):\n",
    "    print(i)"
   ]
  },
  {
   "cell_type": "code",
   "execution_count": 85,
   "id": "fb3924e4",
   "metadata": {},
   "outputs": [],
   "source": [
    "a = ['sny','king','tin','sin','min','lastn']"
   ]
  },
  {
   "cell_type": "code",
   "execution_count": 86,
   "id": "00c2372f",
   "metadata": {},
   "outputs": [
    {
     "name": "stdout",
     "output_type": "stream",
     "text": [
      "sny\n",
      "king\n",
      "tin\n",
      "sin\n",
      "min\n",
      "lastn\n"
     ]
    }
   ],
   "source": [
    "for i in a:\n",
    "    print(i)"
   ]
  },
  {
   "cell_type": "code",
   "execution_count": 88,
   "id": "0db68ac6",
   "metadata": {},
   "outputs": [
    {
     "data": {
      "text/plain": [
       "6"
      ]
     },
     "execution_count": 88,
     "metadata": {},
     "output_type": "execute_result"
    }
   ],
   "source": [
    "l = len(a)\n",
    "l"
   ]
  },
  {
   "cell_type": "code",
   "execution_count": 90,
   "id": "ab4bcbc6",
   "metadata": {},
   "outputs": [
    {
     "name": "stdout",
     "output_type": "stream",
     "text": [
      "sny\n",
      "sin\n"
     ]
    }
   ],
   "source": [
    "for i in range(0,l,3):\n",
    "    print(a[i])"
   ]
  },
  {
   "cell_type": "code",
   "execution_count": 91,
   "id": "93fc35d4",
   "metadata": {},
   "outputs": [
    {
     "name": "stdout",
     "output_type": "stream",
     "text": [
      "sny\n",
      "tin\n",
      "min\n"
     ]
    }
   ],
   "source": [
    "for i in range(0,l,2):\n",
    "    print(a[i])"
   ]
  },
  {
   "cell_type": "code",
   "execution_count": 94,
   "id": "93494b83",
   "metadata": {},
   "outputs": [
    {
     "name": "stdout",
     "output_type": "stream",
     "text": [
      "0\n",
      "5\n",
      "10\n",
      "15\n",
      "20\n",
      "25\n",
      "30\n",
      "35\n",
      "40\n",
      "45\n",
      "50\n",
      "55\n",
      "60\n",
      "65\n",
      "70\n",
      "75\n",
      "80\n",
      "85\n",
      "90\n",
      "95\n",
      "100\n"
     ]
    }
   ],
   "source": [
    "for i in range(0,101,5):\n",
    "    print(i)"
   ]
  },
  {
   "cell_type": "code",
   "execution_count": null,
   "id": "1a6d8a97",
   "metadata": {},
   "outputs": [],
   "source": [
    "a = [2,5,7,8,9,3,5,66,88]"
   ]
  },
  {
   "cell_type": "code",
   "execution_count": 95,
   "id": "75a2bdfa",
   "metadata": {},
   "outputs": [],
   "source": [
    "details = ['aramco','sny','logopath']"
   ]
  },
  {
   "cell_type": "code",
   "execution_count": 97,
   "id": "bd9da7f2",
   "metadata": {},
   "outputs": [],
   "source": [
    "details[0] = 'mramco'"
   ]
  },
  {
   "cell_type": "code",
   "execution_count": 98,
   "id": "3e9f7b39",
   "metadata": {},
   "outputs": [
    {
     "data": {
      "text/plain": [
       "['mramco', 'sny', 'logopath']"
      ]
     },
     "execution_count": 98,
     "metadata": {},
     "output_type": "execute_result"
    }
   ],
   "source": [
    "details"
   ]
  },
  {
   "cell_type": "code",
   "execution_count": 99,
   "id": "283e3e52",
   "metadata": {},
   "outputs": [],
   "source": [
    "details = ('aramco','sny','logopath')"
   ]
  },
  {
   "cell_type": "code",
   "execution_count": 100,
   "id": "6a630ec6",
   "metadata": {},
   "outputs": [
    {
     "data": {
      "text/plain": [
       "'aramco'"
      ]
     },
     "execution_count": 100,
     "metadata": {},
     "output_type": "execute_result"
    }
   ],
   "source": [
    "details[0]"
   ]
  },
  {
   "cell_type": "code",
   "execution_count": 102,
   "id": "701c59c2",
   "metadata": {},
   "outputs": [
    {
     "ename": "TypeError",
     "evalue": "'tuple' object does not support item assignment",
     "output_type": "error",
     "traceback": [
      "\u001b[0;31m---------------------------------------------------------------------------\u001b[0m",
      "\u001b[0;31mTypeError\u001b[0m                                 Traceback (most recent call last)",
      "\u001b[0;32m/var/folders/x6/1g7n9v4d477gjpc7mrh6vs040000gn/T/ipykernel_9422/3556345411.py\u001b[0m in \u001b[0;36m<module>\u001b[0;34m\u001b[0m\n\u001b[0;32m----> 1\u001b[0;31m \u001b[0mdetails\u001b[0m\u001b[0;34m[\u001b[0m\u001b[0;36m0\u001b[0m\u001b[0;34m]\u001b[0m\u001b[0;34m=\u001b[0m \u001b[0;34m\"ard\"\u001b[0m\u001b[0;34m\u001b[0m\u001b[0;34m\u001b[0m\u001b[0m\n\u001b[0m",
      "\u001b[0;31mTypeError\u001b[0m: 'tuple' object does not support item assignment"
     ]
    }
   ],
   "source": [
    "details[0]= \"ard\""
   ]
  },
  {
   "cell_type": "code",
   "execution_count": 105,
   "id": "0135af60",
   "metadata": {},
   "outputs": [
    {
     "data": {
      "text/plain": [
       "('aramco', 'sny', 'logopath')"
      ]
     },
     "execution_count": 105,
     "metadata": {},
     "output_type": "execute_result"
    }
   ],
   "source": [
    "details = ('aramco','sny','logopath')\n",
    "details"
   ]
  },
  {
   "cell_type": "code",
   "execution_count": 117,
   "id": "a2de67d9",
   "metadata": {},
   "outputs": [],
   "source": [
    "time = 2"
   ]
  },
  {
   "cell_type": "code",
   "execution_count": 119,
   "id": "05c64d50",
   "metadata": {},
   "outputs": [
    {
     "name": "stdout",
     "output_type": "stream",
     "text": [
      "no match, timing perfect\n"
     ]
    }
   ],
   "source": [
    "\n",
    "if(time > 2):\n",
    "    print(\"after noon\")\n",
    "elif (time<2):\n",
    "    print(\"before noon\")\n",
    "else:\n",
    "    print(\"no match, timing perfect\")"
   ]
  },
  {
   "cell_type": "code",
   "execution_count": 121,
   "id": "32d71414",
   "metadata": {},
   "outputs": [
    {
     "name": "stdout",
     "output_type": "stream",
     "text": [
      "Mon Mar 13 20:26:43 2023\n"
     ]
    }
   ],
   "source": [
    "import time\n",
    "ham =  time.ctime()\n",
    "print(ham)"
   ]
  },
  {
   "cell_type": "code",
   "execution_count": 122,
   "id": "f322a534",
   "metadata": {},
   "outputs": [],
   "source": [
    "def checktime(time):\n",
    "    if(time > 2):\n",
    "        print(\"after noon\")\n",
    "    elif (time<2):\n",
    "        print(\"before noon\")\n",
    "    else:\n",
    "        print(\"no match, timing perfect\")\n",
    "        \n"
   ]
  },
  {
   "cell_type": "code",
   "execution_count": 123,
   "id": "eb5411cf",
   "metadata": {},
   "outputs": [
    {
     "name": "stdout",
     "output_type": "stream",
     "text": [
      "after noon\n"
     ]
    }
   ],
   "source": [
    "checktime(4)"
   ]
  },
  {
   "cell_type": "code",
   "execution_count": 124,
   "id": "50671f49",
   "metadata": {},
   "outputs": [
    {
     "name": "stdout",
     "output_type": "stream",
     "text": [
      "before noon\n"
     ]
    }
   ],
   "source": [
    "checktime(1)"
   ]
  },
  {
   "cell_type": "code",
   "execution_count": 127,
   "id": "e15b7a5b",
   "metadata": {},
   "outputs": [],
   "source": [
    "details = ('hmd','123')\n",
    "def checkDetails(name,pwd):\n",
    "    if name == details[0] and pwd == details[1]:\n",
    "        print(\"user is proper\")\n",
    "    else:\n",
    "        print(\"not proper user\")\n",
    "    \n",
    "    "
   ]
  },
  {
   "cell_type": "code",
   "execution_count": 128,
   "id": "253c394a",
   "metadata": {},
   "outputs": [
    {
     "name": "stdout",
     "output_type": "stream",
     "text": [
      "not proper user\n"
     ]
    }
   ],
   "source": [
    "checkDetails('sny','123')"
   ]
  },
  {
   "cell_type": "code",
   "execution_count": 129,
   "id": "318b7c9a",
   "metadata": {},
   "outputs": [
    {
     "name": "stdout",
     "output_type": "stream",
     "text": [
      "user is proper\n"
     ]
    }
   ],
   "source": [
    "checkDetails('hmd','123')"
   ]
  },
  {
   "cell_type": "code",
   "execution_count": 137,
   "id": "9458131f",
   "metadata": {},
   "outputs": [],
   "source": [
    "details = ('hmd','123')\n",
    "def checkDetails(name=\"sny\",pwd=\"123\"):\n",
    "    if name == details[0] and pwd == details[1]:\n",
    "        print(\"user is proper\")\n",
    "    else:\n",
    "        print(name,pwd)\n",
    "        print(\"not proper user\")"
   ]
  },
  {
   "cell_type": "code",
   "execution_count": 133,
   "id": "177bbd5d",
   "metadata": {},
   "outputs": [
    {
     "name": "stdout",
     "output_type": "stream",
     "text": [
      "not proper user\n"
     ]
    }
   ],
   "source": [
    "checkDetails(name=\"tt\",pwd='123')"
   ]
  },
  {
   "cell_type": "code",
   "execution_count": 134,
   "id": "af4bdcce",
   "metadata": {},
   "outputs": [
    {
     "name": "stdout",
     "output_type": "stream",
     "text": [
      "not proper user\n"
     ]
    }
   ],
   "source": [
    "checkDetails(\"tt\",'123')"
   ]
  },
  {
   "cell_type": "code",
   "execution_count": 135,
   "id": "34c73cb2",
   "metadata": {},
   "outputs": [
    {
     "name": "stdout",
     "output_type": "stream",
     "text": [
      "user is proper\n"
     ]
    }
   ],
   "source": [
    "checkDetails(pwd='123',name='hmd')"
   ]
  },
  {
   "cell_type": "code",
   "execution_count": 138,
   "id": "e2a3a266",
   "metadata": {},
   "outputs": [
    {
     "name": "stdout",
     "output_type": "stream",
     "text": [
      "sny 123\n",
      "not proper user\n"
     ]
    }
   ],
   "source": [
    "checkDetails()"
   ]
  },
  {
   "cell_type": "code",
   "execution_count": 143,
   "id": "bf4bc1f2",
   "metadata": {},
   "outputs": [],
   "source": [
    "a = [11,20,30,50,90,10]\n",
    "def display():\n",
    "    for i in range(6):\n",
    "        print (a[i])\n",
    "    \n"
   ]
  },
  {
   "cell_type": "code",
   "execution_count": 145,
   "id": "e47e14e1",
   "metadata": {},
   "outputs": [],
   "source": [
    "\n",
    "details = ('hmd','123')\n",
    "def checkDetails(name=\"sny\",pwd=\"123\"):\n",
    "    if name == details[0] and pwd == details[1]:\n",
    "        print(\"user is proper\")\n",
    "        display()\n",
    "        \n",
    "    else:\n",
    "        print(name,pwd)\n",
    "        print(\"not proper user\")"
   ]
  },
  {
   "cell_type": "code",
   "execution_count": 147,
   "id": "7fbe8adf",
   "metadata": {},
   "outputs": [
    {
     "name": "stdout",
     "output_type": "stream",
     "text": [
      "hm 123\n",
      "not proper user\n"
     ]
    }
   ],
   "source": [
    "checkDetails('hm','123')"
   ]
  },
  {
   "cell_type": "code",
   "execution_count": 150,
   "id": "c7f53ff7",
   "metadata": {},
   "outputs": [],
   "source": [
    "\n",
    "def display(array):\n",
    "    for i in range(6):\n",
    "        print (array[i])"
   ]
  },
  {
   "cell_type": "code",
   "execution_count": 151,
   "id": "b41582c8",
   "metadata": {},
   "outputs": [],
   "source": [
    "a = ['sny','king','tin','sin','min','lastn']"
   ]
  },
  {
   "cell_type": "code",
   "execution_count": 152,
   "id": "c8b72c5a",
   "metadata": {},
   "outputs": [
    {
     "name": "stdout",
     "output_type": "stream",
     "text": [
      "sny\n",
      "king\n",
      "tin\n",
      "sin\n",
      "min\n",
      "lastn\n"
     ]
    }
   ],
   "source": [
    "display(a)"
   ]
  },
  {
   "cell_type": "code",
   "execution_count": 155,
   "id": "d2731478",
   "metadata": {},
   "outputs": [],
   "source": [
    " def mysum(n1,n2):\n",
    "        a = n1\n",
    "        b = n2\n",
    "        print(a+b)\n",
    "        \n"
   ]
  },
  {
   "cell_type": "code",
   "execution_count": 156,
   "id": "d3ddccf2",
   "metadata": {},
   "outputs": [
    {
     "name": "stdout",
     "output_type": "stream",
     "text": [
      "8\n"
     ]
    }
   ],
   "source": [
    "mysum(3,5)"
   ]
  },
  {
   "cell_type": "code",
   "execution_count": 157,
   "id": "7ec9550b",
   "metadata": {},
   "outputs": [
    {
     "name": "stdout",
     "output_type": "stream",
     "text": [
      "6707\n"
     ]
    }
   ],
   "source": [
    "mysum(123,6584)"
   ]
  },
  {
   "cell_type": "code",
   "execution_count": 160,
   "id": "886b24d3",
   "metadata": {},
   "outputs": [],
   "source": [
    "def mysub(n1,n2):\n",
    "        a = n1\n",
    "        b = n2\n",
    "        print(a-b)\n",
    "        "
   ]
  },
  {
   "cell_type": "code",
   "execution_count": 161,
   "id": "d50bf418",
   "metadata": {},
   "outputs": [
    {
     "name": "stdout",
     "output_type": "stream",
     "text": [
      "13\n"
     ]
    }
   ],
   "source": [
    "mysub(34,21)"
   ]
  },
  {
   "cell_type": "code",
   "execution_count": 166,
   "id": "589e0f53",
   "metadata": {},
   "outputs": [],
   "source": [
    "def mydiv(n1,n2):\n",
    "    if n2 == 0:\n",
    "        print('Div noyt possible')\n",
    "    else:\n",
    "        a = n1\n",
    "        b = n2\n",
    "        print(a/b)\n",
    "        "
   ]
  },
  {
   "cell_type": "code",
   "execution_count": 163,
   "id": "c22b9d5b",
   "metadata": {},
   "outputs": [
    {
     "name": "stdout",
     "output_type": "stream",
     "text": [
      "16.0\n"
     ]
    }
   ],
   "source": [
    "mydiv(32,2)"
   ]
  },
  {
   "cell_type": "code",
   "execution_count": 167,
   "id": "2530eb8d",
   "metadata": {},
   "outputs": [
    {
     "name": "stdout",
     "output_type": "stream",
     "text": [
      "Div noyt possible\n"
     ]
    }
   ],
   "source": [
    "mydiv(32,0)"
   ]
  },
  {
   "cell_type": "code",
   "execution_count": 1,
   "id": "929a9ea0",
   "metadata": {},
   "outputs": [
    {
     "ename": "NameError",
     "evalue": "name 'mysum' is not defined",
     "output_type": "error",
     "traceback": [
      "\u001b[0;31m---------------------------------------------------------------------------\u001b[0m",
      "\u001b[0;31mNameError\u001b[0m                                 Traceback (most recent call last)",
      "\u001b[0;32m/var/folders/x6/1g7n9v4d477gjpc7mrh6vs040000gn/T/ipykernel_42273/3093924720.py\u001b[0m in \u001b[0;36m<module>\u001b[0;34m\u001b[0m\n\u001b[0;32m----> 1\u001b[0;31m \u001b[0mmysum\u001b[0m\u001b[0;34m(\u001b[0m\u001b[0;36m6\u001b[0m\u001b[0;34m,\u001b[0m\u001b[0;36m2\u001b[0m\u001b[0;34m)\u001b[0m\u001b[0;34m\u001b[0m\u001b[0;34m\u001b[0m\u001b[0m\n\u001b[0m",
      "\u001b[0;31mNameError\u001b[0m: name 'mysum' is not defined"
     ]
    }
   ],
   "source": [
    "mysum(6,2)"
   ]
  },
  {
   "cell_type": "code",
   "execution_count": 7,
   "id": "7eccefb1",
   "metadata": {},
   "outputs": [],
   "source": [
    "def mysub(n1,n2):\n",
    "        a = n1\n",
    "        b = n2\n",
    "        print(a-b)\n",
    "        \n",
    "def mysum(n1,n2):\n",
    "        a = n1\n",
    "        b = n2\n",
    "        print(a+b)\n",
    "        \n",
    "def mydiv(n1,n2):\n",
    "    if n2 == 0:\n",
    "        print('Div noyt possible')\n",
    "    else:\n",
    "        a = n1\n",
    "        b = n2\n",
    "        print(a/b)\n",
    "def mymult(n1,n2):\n",
    "    print(n1*n2)\n",
    "    "
   ]
  },
  {
   "cell_type": "code",
   "execution_count": 3,
   "id": "1b523874",
   "metadata": {},
   "outputs": [
    {
     "name": "stdout",
     "output_type": "stream",
     "text": [
      "6\n"
     ]
    }
   ],
   "source": [
    "mymult(2,3)"
   ]
  },
  {
   "cell_type": "code",
   "execution_count": 4,
   "id": "ac4fc7b1",
   "metadata": {},
   "outputs": [
    {
     "name": "stdout",
     "output_type": "stream",
     "text": [
      "5\n"
     ]
    }
   ],
   "source": [
    "mysum(2,3)"
   ]
  },
  {
   "cell_type": "code",
   "execution_count": 5,
   "id": "2e5469a8",
   "metadata": {},
   "outputs": [
    {
     "name": "stdout",
     "output_type": "stream",
     "text": [
      "-1\n"
     ]
    }
   ],
   "source": [
    "mysub(2,3)"
   ]
  },
  {
   "cell_type": "code",
   "execution_count": 6,
   "id": "5ea0b99c",
   "metadata": {},
   "outputs": [
    {
     "name": "stdout",
     "output_type": "stream",
     "text": [
      "0.6666666666666666\n"
     ]
    }
   ],
   "source": [
    "mydiv(2,3)"
   ]
  },
  {
   "cell_type": "code",
   "execution_count": 1,
   "id": "8df0d330",
   "metadata": {},
   "outputs": [
    {
     "name": "stdout",
     "output_type": "stream",
     "text": [
      "enter namesny\n",
      "how are you  sny\n"
     ]
    }
   ],
   "source": [
    "name = input(\"enter name\") \n",
    "print(\"how are you \",name)"
   ]
  },
  {
   "cell_type": "code",
   "execution_count": 54,
   "id": "33641209",
   "metadata": {},
   "outputs": [],
   "source": [
    "def calculator():\n",
    "    n1 = int(input(\"enter first no\"))\n",
    "    n2 = int(input(\"enter seacond no\"))\n",
    "    op = input(\"enter operation\")\n",
    "    print(n1,\"------\",n2)\n",
    "    print(\"operation to be done:--\",op)\n",
    "    if op == \"sum\" or op.__contains__(\"add\") or op.__contains__(\"sum\") or op.__contains__(\"+\"):\n",
    "        mysum(n1,n2)\n",
    "    elif op== \"mult\" or op.__contains__('mul') or op.__contains__('*'):\n",
    "        mymult(n1,n2)\n",
    "    elif op== \"sub\":\n",
    "        mysub(n1,n2)\n",
    "    elif op== \"div\":\n",
    "        mydiv(n1,n2)\n",
    "    else:\n",
    "        print(\"not proper\")\n",
    "    \n",
    "    "
   ]
  },
  {
   "cell_type": "code",
   "execution_count": 55,
   "id": "c361ad86",
   "metadata": {},
   "outputs": [
    {
     "name": "stdout",
     "output_type": "stream",
     "text": [
      "enter first no2\n",
      "enter seacond no3\n",
      "enter operationadd\n",
      "2 ------ 3\n",
      "operation to be done:-- add\n",
      "5\n"
     ]
    }
   ],
   "source": [
    "calculator()"
   ]
  },
  {
   "cell_type": "code",
   "execution_count": 47,
   "id": "013c8fbd",
   "metadata": {},
   "outputs": [],
   "source": [
    "x = \"multiplication\""
   ]
  },
  {
   "cell_type": "code",
   "execution_count": 37,
   "id": "4cbef583",
   "metadata": {},
   "outputs": [
    {
     "data": {
      "text/plain": [
       "True"
      ]
     },
     "execution_count": 37,
     "metadata": {},
     "output_type": "execute_result"
    }
   ],
   "source": [
    "x.__contains__(\"mul\")"
   ]
  },
  {
   "cell_type": "code",
   "execution_count": 48,
   "id": "efd599ba",
   "metadata": {},
   "outputs": [],
   "source": [
    "import pandas as pd"
   ]
  },
  {
   "cell_type": "code",
   "execution_count": 49,
   "id": "bccf7e99",
   "metadata": {},
   "outputs": [],
   "source": [
    "data = pd.read_csv(\"/Users/user/Desktop/python activity/sampledata.csv\")"
   ]
  },
  {
   "cell_type": "code",
   "execution_count": 50,
   "id": "d9a25231",
   "metadata": {},
   "outputs": [
    {
     "data": {
      "text/html": [
       "<div>\n",
       "<style scoped>\n",
       "    .dataframe tbody tr th:only-of-type {\n",
       "        vertical-align: middle;\n",
       "    }\n",
       "\n",
       "    .dataframe tbody tr th {\n",
       "        vertical-align: top;\n",
       "    }\n",
       "\n",
       "    .dataframe thead th {\n",
       "        text-align: right;\n",
       "    }\n",
       "</style>\n",
       "<table border=\"1\" class=\"dataframe\">\n",
       "  <thead>\n",
       "    <tr style=\"text-align: right;\">\n",
       "      <th></th>\n",
       "      <th>name</th>\n",
       "      <th>age</th>\n",
       "    </tr>\n",
       "  </thead>\n",
       "  <tbody>\n",
       "    <tr>\n",
       "      <th>0</th>\n",
       "      <td>king</td>\n",
       "      <td>50</td>\n",
       "    </tr>\n",
       "    <tr>\n",
       "      <th>1</th>\n",
       "      <td>bling</td>\n",
       "      <td>150</td>\n",
       "    </tr>\n",
       "    <tr>\n",
       "      <th>2</th>\n",
       "      <td>cat</td>\n",
       "      <td>2</td>\n",
       "    </tr>\n",
       "    <tr>\n",
       "      <th>3</th>\n",
       "      <td>mouse</td>\n",
       "      <td>1</td>\n",
       "    </tr>\n",
       "    <tr>\n",
       "      <th>4</th>\n",
       "      <td>batman</td>\n",
       "      <td>199</td>\n",
       "    </tr>\n",
       "  </tbody>\n",
       "</table>\n",
       "</div>"
      ],
      "text/plain": [
       "     name  age\n",
       "0    king   50\n",
       "1  bling   150\n",
       "2    cat     2\n",
       "3   mouse    1\n",
       "4  batman  199"
      ]
     },
     "execution_count": 50,
     "metadata": {},
     "output_type": "execute_result"
    }
   ],
   "source": [
    "data.head(5)"
   ]
  },
  {
   "cell_type": "code",
   "execution_count": 51,
   "id": "7197de61",
   "metadata": {},
   "outputs": [
    {
     "data": {
      "text/plain": [
       "0      king\n",
       "1    bling \n",
       "2      cat \n",
       "3     mouse\n",
       "4    batman\n",
       "Name: name, dtype: object"
      ]
     },
     "execution_count": 51,
     "metadata": {},
     "output_type": "execute_result"
    }
   ],
   "source": [
    "data['name']"
   ]
  },
  {
   "cell_type": "code",
   "execution_count": 52,
   "id": "165a3488",
   "metadata": {},
   "outputs": [
    {
     "name": "stdout",
     "output_type": "stream",
     "text": [
      "king\n",
      "bling \n",
      "cat \n",
      "mouse\n",
      "batman\n"
     ]
    }
   ],
   "source": [
    "for item in data['name']:\n",
    "    print(item)"
   ]
  },
  {
   "cell_type": "code",
   "execution_count": 53,
   "id": "a88c529b",
   "metadata": {},
   "outputs": [
    {
     "name": "stdout",
     "output_type": "stream",
     "text": [
      "no batman\n",
      "no batman\n",
      "no batman\n",
      "no batman\n",
      "found you\n"
     ]
    }
   ],
   "source": [
    "for item in data['name']:\n",
    "    if(item == \"batman\"):\n",
    "        print(\"found you\")\n",
    "    else:\n",
    "        \n",
    "        print(\"no batman\")"
   ]
  },
  {
   "cell_type": "code",
   "execution_count": 56,
   "id": "4a69671f",
   "metadata": {},
   "outputs": [],
   "source": [
    "def myAdd(n1,n2):\n",
    "        a = n1\n",
    "        b = n2\n",
    "        print(a+b)"
   ]
  },
  {
   "cell_type": "code",
   "execution_count": 59,
   "id": "1394f105",
   "metadata": {},
   "outputs": [],
   "source": [
    "def myAdd(n1,n2,n3):\n",
    "    print(n1+n2+n3)\n",
    "        "
   ]
  },
  {
   "cell_type": "code",
   "execution_count": 61,
   "id": "8f61ddba",
   "metadata": {},
   "outputs": [
    {
     "name": "stdout",
     "output_type": "stream",
     "text": [
      "9\n"
     ]
    }
   ],
   "source": [
    "def myAdd(**kwargs):\n",
    "   x = "
   ]
  },
  {
   "cell_type": "code",
   "execution_count": 62,
   "id": "1bfee509",
   "metadata": {},
   "outputs": [],
   "source": [
    "def myAdd(n1 =0,n2=0,n3=0,n4=0,n5=0):\n",
    "    print(n1+n2+n3+n4+n5)"
   ]
  },
  {
   "cell_type": "code",
   "execution_count": 63,
   "id": "3ddb59b1",
   "metadata": {},
   "outputs": [
    {
     "name": "stdout",
     "output_type": "stream",
     "text": [
      "0\n"
     ]
    }
   ],
   "source": [
    "myAdd()"
   ]
  },
  {
   "cell_type": "code",
   "execution_count": 64,
   "id": "e9a1fb60",
   "metadata": {},
   "outputs": [
    {
     "name": "stdout",
     "output_type": "stream",
     "text": [
      "9\n"
     ]
    }
   ],
   "source": [
    "myAdd(n1=4,n2=5)"
   ]
  },
  {
   "cell_type": "code",
   "execution_count": 65,
   "id": "32796fee",
   "metadata": {},
   "outputs": [
    {
     "name": "stdout",
     "output_type": "stream",
     "text": [
      "16\n"
     ]
    }
   ],
   "source": [
    "myAdd(n1=4,n2=5,n3=7)"
   ]
  },
  {
   "cell_type": "code",
   "execution_count": 66,
   "id": "5d46010e",
   "metadata": {},
   "outputs": [
    {
     "name": "stdout",
     "output_type": "stream",
     "text": [
      "16\n"
     ]
    }
   ],
   "source": [
    "myAdd(4,5,7)"
   ]
  },
  {
   "cell_type": "code",
   "execution_count": 68,
   "id": "bc9c64ba",
   "metadata": {},
   "outputs": [
    {
     "name": "stdout",
     "output_type": "stream",
     "text": [
      "enter number3\n",
      "enter number7\n",
      "enter number6\n",
      "enter number7\n"
     ]
    }
   ],
   "source": [
    "num = 4\n",
    "for i in range(num):\n",
    "    input(\"enter number\")"
   ]
  },
  {
   "cell_type": "markdown",
   "id": "d09cac6a",
   "metadata": {},
   "source": [
    "---------------------------------PANDAS ----------------------"
   ]
  },
  {
   "cell_type": "code",
   "execution_count": 69,
   "id": "e14597b5",
   "metadata": {},
   "outputs": [],
   "source": [
    "import pandas as pd"
   ]
  },
  {
   "cell_type": "code",
   "execution_count": 109,
   "id": "7ab593ba",
   "metadata": {},
   "outputs": [],
   "source": [
    "df = pd.read_csv(\"/Users/user/Desktop/python activity/AAPL.csv\")"
   ]
  },
  {
   "cell_type": "code",
   "execution_count": 74,
   "id": "63b996ae",
   "metadata": {},
   "outputs": [
    {
     "data": {
      "text/html": [
       "<div>\n",
       "<style scoped>\n",
       "    .dataframe tbody tr th:only-of-type {\n",
       "        vertical-align: middle;\n",
       "    }\n",
       "\n",
       "    .dataframe tbody tr th {\n",
       "        vertical-align: top;\n",
       "    }\n",
       "\n",
       "    .dataframe thead th {\n",
       "        text-align: right;\n",
       "    }\n",
       "</style>\n",
       "<table border=\"1\" class=\"dataframe\">\n",
       "  <thead>\n",
       "    <tr style=\"text-align: right;\">\n",
       "      <th></th>\n",
       "      <th>Date</th>\n",
       "      <th>Open</th>\n",
       "      <th>High</th>\n",
       "      <th>Low</th>\n",
       "      <th>Close</th>\n",
       "      <th>Adj Close</th>\n",
       "      <th>Volume</th>\n",
       "    </tr>\n",
       "  </thead>\n",
       "  <tbody>\n",
       "    <tr>\n",
       "      <th>0</th>\n",
       "      <td>2022-03-31</td>\n",
       "      <td>177.839996</td>\n",
       "      <td>178.029999</td>\n",
       "      <td>174.399994</td>\n",
       "      <td>174.610001</td>\n",
       "      <td>173.558640</td>\n",
       "      <td>103049300</td>\n",
       "    </tr>\n",
       "    <tr>\n",
       "      <th>1</th>\n",
       "      <td>2022-04-01</td>\n",
       "      <td>174.029999</td>\n",
       "      <td>174.880005</td>\n",
       "      <td>171.940002</td>\n",
       "      <td>174.309998</td>\n",
       "      <td>173.260422</td>\n",
       "      <td>78751300</td>\n",
       "    </tr>\n",
       "    <tr>\n",
       "      <th>2</th>\n",
       "      <td>2022-04-04</td>\n",
       "      <td>174.570007</td>\n",
       "      <td>178.490005</td>\n",
       "      <td>174.440002</td>\n",
       "      <td>178.440002</td>\n",
       "      <td>177.365570</td>\n",
       "      <td>76468400</td>\n",
       "    </tr>\n",
       "    <tr>\n",
       "      <th>3</th>\n",
       "      <td>2022-04-05</td>\n",
       "      <td>177.500000</td>\n",
       "      <td>178.300003</td>\n",
       "      <td>174.419998</td>\n",
       "      <td>175.059998</td>\n",
       "      <td>174.005905</td>\n",
       "      <td>73401800</td>\n",
       "    </tr>\n",
       "    <tr>\n",
       "      <th>4</th>\n",
       "      <td>2022-04-06</td>\n",
       "      <td>172.360001</td>\n",
       "      <td>173.630005</td>\n",
       "      <td>170.130005</td>\n",
       "      <td>171.830002</td>\n",
       "      <td>170.795380</td>\n",
       "      <td>89058800</td>\n",
       "    </tr>\n",
       "  </tbody>\n",
       "</table>\n",
       "</div>"
      ],
      "text/plain": [
       "         Date        Open        High         Low       Close   Adj Close  \\\n",
       "0  2022-03-31  177.839996  178.029999  174.399994  174.610001  173.558640   \n",
       "1  2022-04-01  174.029999  174.880005  171.940002  174.309998  173.260422   \n",
       "2  2022-04-04  174.570007  178.490005  174.440002  178.440002  177.365570   \n",
       "3  2022-04-05  177.500000  178.300003  174.419998  175.059998  174.005905   \n",
       "4  2022-04-06  172.360001  173.630005  170.130005  171.830002  170.795380   \n",
       "\n",
       "      Volume  \n",
       "0  103049300  \n",
       "1   78751300  \n",
       "2   76468400  \n",
       "3   73401800  \n",
       "4   89058800  "
      ]
     },
     "execution_count": 74,
     "metadata": {},
     "output_type": "execute_result"
    }
   ],
   "source": [
    "df.head(5)"
   ]
  },
  {
   "cell_type": "code",
   "execution_count": 75,
   "id": "5c574f5f",
   "metadata": {},
   "outputs": [
    {
     "name": "stdout",
     "output_type": "stream",
     "text": [
      "<class 'pandas.core.frame.DataFrame'>\n",
      "RangeIndex: 251 entries, 0 to 250\n",
      "Data columns (total 7 columns):\n",
      " #   Column     Non-Null Count  Dtype  \n",
      "---  ------     --------------  -----  \n",
      " 0   Date       251 non-null    object \n",
      " 1   Open       251 non-null    float64\n",
      " 2   High       251 non-null    float64\n",
      " 3   Low        251 non-null    float64\n",
      " 4   Close      251 non-null    float64\n",
      " 5   Adj Close  251 non-null    float64\n",
      " 6   Volume     251 non-null    int64  \n",
      "dtypes: float64(5), int64(1), object(1)\n",
      "memory usage: 13.9+ KB\n"
     ]
    }
   ],
   "source": [
    "df.info()"
   ]
  },
  {
   "cell_type": "code",
   "execution_count": 79,
   "id": "3e8bf4aa",
   "metadata": {},
   "outputs": [
    {
     "data": {
      "text/html": [
       "<div>\n",
       "<style scoped>\n",
       "    .dataframe tbody tr th:only-of-type {\n",
       "        vertical-align: middle;\n",
       "    }\n",
       "\n",
       "    .dataframe tbody tr th {\n",
       "        vertical-align: top;\n",
       "    }\n",
       "\n",
       "    .dataframe thead th {\n",
       "        text-align: right;\n",
       "    }\n",
       "</style>\n",
       "<table border=\"1\" class=\"dataframe\">\n",
       "  <thead>\n",
       "    <tr style=\"text-align: right;\">\n",
       "      <th></th>\n",
       "      <th>Open</th>\n",
       "      <th>High</th>\n",
       "      <th>Low</th>\n",
       "      <th>Close</th>\n",
       "      <th>Adj Close</th>\n",
       "      <th>Volume</th>\n",
       "    </tr>\n",
       "  </thead>\n",
       "  <tbody>\n",
       "    <tr>\n",
       "      <th>count</th>\n",
       "      <td>251.000000</td>\n",
       "      <td>251.000000</td>\n",
       "      <td>251.000000</td>\n",
       "      <td>251.000000</td>\n",
       "      <td>251.000000</td>\n",
       "      <td>2.510000e+02</td>\n",
       "    </tr>\n",
       "    <tr>\n",
       "      <th>mean</th>\n",
       "      <td>149.651435</td>\n",
       "      <td>151.706972</td>\n",
       "      <td>147.745418</td>\n",
       "      <td>149.782231</td>\n",
       "      <td>149.336480</td>\n",
       "      <td>8.148972e+07</td>\n",
       "    </tr>\n",
       "    <tr>\n",
       "      <th>std</th>\n",
       "      <td>11.327796</td>\n",
       "      <td>11.198026</td>\n",
       "      <td>11.335016</td>\n",
       "      <td>11.251748</td>\n",
       "      <td>11.138808</td>\n",
       "      <td>2.385313e+07</td>\n",
       "    </tr>\n",
       "    <tr>\n",
       "      <th>min</th>\n",
       "      <td>126.010002</td>\n",
       "      <td>127.769997</td>\n",
       "      <td>124.169998</td>\n",
       "      <td>125.019997</td>\n",
       "      <td>124.829399</td>\n",
       "      <td>3.519590e+07</td>\n",
       "    </tr>\n",
       "    <tr>\n",
       "      <th>25%</th>\n",
       "      <td>142.110001</td>\n",
       "      <td>143.854996</td>\n",
       "      <td>139.949997</td>\n",
       "      <td>142.464996</td>\n",
       "      <td>141.973427</td>\n",
       "      <td>6.634440e+07</td>\n",
       "    </tr>\n",
       "    <tr>\n",
       "      <th>50%</th>\n",
       "      <td>148.869995</td>\n",
       "      <td>150.919998</td>\n",
       "      <td>147.240005</td>\n",
       "      <td>149.350006</td>\n",
       "      <td>148.910004</td>\n",
       "      <td>7.625990e+07</td>\n",
       "    </tr>\n",
       "    <tr>\n",
       "      <th>75%</th>\n",
       "      <td>156.275002</td>\n",
       "      <td>158.154999</td>\n",
       "      <td>154.164993</td>\n",
       "      <td>156.779999</td>\n",
       "      <td>155.852944</td>\n",
       "      <td>8.911520e+07</td>\n",
       "    </tr>\n",
       "    <tr>\n",
       "      <th>max</th>\n",
       "      <td>177.839996</td>\n",
       "      <td>178.490005</td>\n",
       "      <td>174.440002</td>\n",
       "      <td>178.440002</td>\n",
       "      <td>177.365570</td>\n",
       "      <td>1.826020e+08</td>\n",
       "    </tr>\n",
       "  </tbody>\n",
       "</table>\n",
       "</div>"
      ],
      "text/plain": [
       "             Open        High         Low       Close   Adj Close  \\\n",
       "count  251.000000  251.000000  251.000000  251.000000  251.000000   \n",
       "mean   149.651435  151.706972  147.745418  149.782231  149.336480   \n",
       "std     11.327796   11.198026   11.335016   11.251748   11.138808   \n",
       "min    126.010002  127.769997  124.169998  125.019997  124.829399   \n",
       "25%    142.110001  143.854996  139.949997  142.464996  141.973427   \n",
       "50%    148.869995  150.919998  147.240005  149.350006  148.910004   \n",
       "75%    156.275002  158.154999  154.164993  156.779999  155.852944   \n",
       "max    177.839996  178.490005  174.440002  178.440002  177.365570   \n",
       "\n",
       "             Volume  \n",
       "count  2.510000e+02  \n",
       "mean   8.148972e+07  \n",
       "std    2.385313e+07  \n",
       "min    3.519590e+07  \n",
       "25%    6.634440e+07  \n",
       "50%    7.625990e+07  \n",
       "75%    8.911520e+07  \n",
       "max    1.826020e+08  "
      ]
     },
     "execution_count": 79,
     "metadata": {},
     "output_type": "execute_result"
    }
   ],
   "source": [
    "df.describe()"
   ]
  },
  {
   "cell_type": "code",
   "execution_count": 81,
   "id": "a545ab5c",
   "metadata": {},
   "outputs": [
    {
     "data": {
      "text/plain": [
       "Date         0\n",
       "Open         0\n",
       "High         0\n",
       "Low          0\n",
       "Close        0\n",
       "Adj Close    0\n",
       "Volume       0\n",
       "dtype: int64"
      ]
     },
     "execution_count": 81,
     "metadata": {},
     "output_type": "execute_result"
    }
   ],
   "source": [
    "df.isnull().sum()"
   ]
  },
  {
   "cell_type": "code",
   "execution_count": 82,
   "id": "e36a6e86",
   "metadata": {},
   "outputs": [
    {
     "data": {
      "text/plain": [
       "177.839996"
      ]
     },
     "execution_count": 82,
     "metadata": {},
     "output_type": "execute_result"
    }
   ],
   "source": [
    "df['Open'].max()"
   ]
  },
  {
   "cell_type": "code",
   "execution_count": 84,
   "id": "e1a90d5f",
   "metadata": {},
   "outputs": [
    {
     "data": {
      "text/plain": [
       "124.829399"
      ]
     },
     "execution_count": 84,
     "metadata": {},
     "output_type": "execute_result"
    }
   ],
   "source": [
    "df['Adj Close'].min()"
   ]
  },
  {
   "cell_type": "code",
   "execution_count": 85,
   "id": "a751ca4d",
   "metadata": {},
   "outputs": [
    {
     "data": {
      "text/plain": [
       "11.335015828389036"
      ]
     },
     "execution_count": 85,
     "metadata": {},
     "output_type": "execute_result"
    }
   ],
   "source": [
    "df['Low'].std()"
   ]
  },
  {
   "cell_type": "code",
   "execution_count": 87,
   "id": "2a0275ed",
   "metadata": {},
   "outputs": [
    {
     "data": {
      "text/plain": [
       "0      173.558640\n",
       "1      173.260422\n",
       "2      177.365570\n",
       "3      174.005905\n",
       "4      170.795380\n",
       "          ...    \n",
       "246    160.250000\n",
       "247    158.279999\n",
       "248    157.649994\n",
       "249    160.770004\n",
       "250    162.360001\n",
       "Name: Adj Close, Length: 251, dtype: float64"
      ]
     },
     "execution_count": 87,
     "metadata": {},
     "output_type": "execute_result"
    }
   ],
   "source": [
    "df['Adj Close']"
   ]
  },
  {
   "cell_type": "code",
   "execution_count": 89,
   "id": "553045f5",
   "metadata": {},
   "outputs": [],
   "source": [
    "arr = df['Adj Close'].sort_values()"
   ]
  },
  {
   "cell_type": "code",
   "execution_count": 93,
   "id": "d5637ee9",
   "metadata": {},
   "outputs": [
    {
     "name": "stdout",
     "output_type": "stream",
     "text": [
      "150.171204\n",
      "150.221054\n",
      "150.290833\n",
      "150.31131\n",
      "150.470001\n",
      "150.490234\n",
      "150.52037\n",
      "150.589996\n",
      "150.590088\n",
      "150.639999\n",
      "150.839706\n",
      "150.9086\n",
      "151.009995\n",
      "151.029999\n",
      "151.059357\n",
      "151.277695\n",
      "151.366486\n",
      "151.498688\n",
      "151.600006\n",
      "151.6884\n",
      "151.85585\n",
      "151.885742\n",
      "152.252426\n",
      "152.254578\n",
      "152.34201\n",
      "152.550003\n",
      "152.589996\n",
      "152.852661\n",
      "152.869995\n",
      "152.990005\n",
      "153.199997\n",
      "153.231461\n",
      "153.351074\n",
      "153.387222\n",
      "153.710007\n",
      "153.805298\n",
      "153.830002\n",
      "153.850006\n",
      "153.969116\n",
      "153.989029\n",
      "154.038879\n",
      "154.264465\n",
      "154.41423\n",
      "154.641479\n",
      "154.816406\n",
      "155.0\n",
      "155.245056\n",
      "155.314819\n",
      "155.330002\n",
      "155.464355\n",
      "155.627274\n",
      "155.82608\n",
      "155.850006\n",
      "155.855881\n",
      "156.074905\n",
      "156.401352\n",
      "156.562668\n",
      "156.63237\n",
      "156.700745\n",
      "156.720337\n",
      "156.869858\n",
      "157.008896\n",
      "157.399994\n",
      "157.457993\n",
      "157.649994\n",
      "157.830002\n",
      "158.279999\n",
      "158.404984\n",
      "158.51973\n",
      "158.929993\n",
      "159.279999\n",
      "159.280212\n",
      "160.25\n",
      "160.770004\n",
      "160.773392\n",
      "160.815796\n",
      "160.867126\n",
      "161.768814\n",
      "161.899261\n",
      "162.360001\n",
      "162.654678\n",
      "162.910599\n",
      "163.099991\n",
      "164.07608\n",
      "164.294739\n",
      "164.346024\n",
      "164.395859\n",
      "164.751968\n",
      "164.824509\n",
      "165.02037\n",
      "165.053772\n",
      "165.372314\n",
      "165.417953\n",
      "166.223068\n",
      "166.392029\n",
      "166.650497\n",
      "166.698532\n",
      "166.997574\n",
      "167.03746\n",
      "167.954529\n",
      "168.702148\n",
      "169.065857\n",
      "169.373978\n",
      "169.489624\n",
      "170.79538\n",
      "170.974899\n",
      "171.1035\n",
      "171.553055\n",
      "172.480087\n",
      "172.639587\n",
      "173.260422\n",
      "173.55864\n",
      "173.596527\n",
      "173.99527\n",
      "174.005905\n",
      "177.36557\n"
     ]
    }
   ],
   "source": [
    "for i in arr :\n",
    "    if i > 150:\n",
    "        print(i)"
   ]
  },
  {
   "cell_type": "code",
   "execution_count": 92,
   "id": "21181e5a",
   "metadata": {},
   "outputs": [
    {
     "data": {
      "text/html": [
       "<div>\n",
       "<style scoped>\n",
       "    .dataframe tbody tr th:only-of-type {\n",
       "        vertical-align: middle;\n",
       "    }\n",
       "\n",
       "    .dataframe tbody tr th {\n",
       "        vertical-align: top;\n",
       "    }\n",
       "\n",
       "    .dataframe thead th {\n",
       "        text-align: right;\n",
       "    }\n",
       "</style>\n",
       "<table border=\"1\" class=\"dataframe\">\n",
       "  <thead>\n",
       "    <tr style=\"text-align: right;\">\n",
       "      <th></th>\n",
       "      <th>Date</th>\n",
       "      <th>Open</th>\n",
       "      <th>High</th>\n",
       "      <th>Low</th>\n",
       "      <th>Close</th>\n",
       "      <th>Adj Close</th>\n",
       "      <th>Volume</th>\n",
       "    </tr>\n",
       "  </thead>\n",
       "  <tbody>\n",
       "    <tr>\n",
       "      <th>0</th>\n",
       "      <td>2022-03-31</td>\n",
       "      <td>177.839996</td>\n",
       "      <td>178.029999</td>\n",
       "      <td>174.399994</td>\n",
       "      <td>174.610001</td>\n",
       "      <td>173.558640</td>\n",
       "      <td>103049300</td>\n",
       "    </tr>\n",
       "    <tr>\n",
       "      <th>1</th>\n",
       "      <td>2022-04-01</td>\n",
       "      <td>174.029999</td>\n",
       "      <td>174.880005</td>\n",
       "      <td>171.940002</td>\n",
       "      <td>174.309998</td>\n",
       "      <td>173.260422</td>\n",
       "      <td>78751300</td>\n",
       "    </tr>\n",
       "    <tr>\n",
       "      <th>2</th>\n",
       "      <td>2022-04-04</td>\n",
       "      <td>174.570007</td>\n",
       "      <td>178.490005</td>\n",
       "      <td>174.440002</td>\n",
       "      <td>178.440002</td>\n",
       "      <td>177.365570</td>\n",
       "      <td>76468400</td>\n",
       "    </tr>\n",
       "    <tr>\n",
       "      <th>3</th>\n",
       "      <td>2022-04-05</td>\n",
       "      <td>177.500000</td>\n",
       "      <td>178.300003</td>\n",
       "      <td>174.419998</td>\n",
       "      <td>175.059998</td>\n",
       "      <td>174.005905</td>\n",
       "      <td>73401800</td>\n",
       "    </tr>\n",
       "    <tr>\n",
       "      <th>4</th>\n",
       "      <td>2022-04-06</td>\n",
       "      <td>172.360001</td>\n",
       "      <td>173.630005</td>\n",
       "      <td>170.130005</td>\n",
       "      <td>171.830002</td>\n",
       "      <td>170.795380</td>\n",
       "      <td>89058800</td>\n",
       "    </tr>\n",
       "    <tr>\n",
       "      <th>...</th>\n",
       "      <td>...</td>\n",
       "      <td>...</td>\n",
       "      <td>...</td>\n",
       "      <td>...</td>\n",
       "      <td>...</td>\n",
       "      <td>...</td>\n",
       "      <td>...</td>\n",
       "    </tr>\n",
       "    <tr>\n",
       "      <th>246</th>\n",
       "      <td>2023-03-24</td>\n",
       "      <td>158.860001</td>\n",
       "      <td>160.339996</td>\n",
       "      <td>157.850006</td>\n",
       "      <td>160.250000</td>\n",
       "      <td>160.250000</td>\n",
       "      <td>59196500</td>\n",
       "    </tr>\n",
       "    <tr>\n",
       "      <th>247</th>\n",
       "      <td>2023-03-27</td>\n",
       "      <td>159.940002</td>\n",
       "      <td>160.770004</td>\n",
       "      <td>157.869995</td>\n",
       "      <td>158.279999</td>\n",
       "      <td>158.279999</td>\n",
       "      <td>52390300</td>\n",
       "    </tr>\n",
       "    <tr>\n",
       "      <th>248</th>\n",
       "      <td>2023-03-28</td>\n",
       "      <td>157.970001</td>\n",
       "      <td>158.490005</td>\n",
       "      <td>155.979996</td>\n",
       "      <td>157.649994</td>\n",
       "      <td>157.649994</td>\n",
       "      <td>45992200</td>\n",
       "    </tr>\n",
       "    <tr>\n",
       "      <th>249</th>\n",
       "      <td>2023-03-29</td>\n",
       "      <td>159.369995</td>\n",
       "      <td>161.050003</td>\n",
       "      <td>159.350006</td>\n",
       "      <td>160.770004</td>\n",
       "      <td>160.770004</td>\n",
       "      <td>51305700</td>\n",
       "    </tr>\n",
       "    <tr>\n",
       "      <th>250</th>\n",
       "      <td>2023-03-30</td>\n",
       "      <td>161.529999</td>\n",
       "      <td>162.470001</td>\n",
       "      <td>161.270004</td>\n",
       "      <td>162.360001</td>\n",
       "      <td>162.360001</td>\n",
       "      <td>49456700</td>\n",
       "    </tr>\n",
       "  </tbody>\n",
       "</table>\n",
       "<p>251 rows × 7 columns</p>\n",
       "</div>"
      ],
      "text/plain": [
       "           Date        Open        High         Low       Close   Adj Close  \\\n",
       "0    2022-03-31  177.839996  178.029999  174.399994  174.610001  173.558640   \n",
       "1    2022-04-01  174.029999  174.880005  171.940002  174.309998  173.260422   \n",
       "2    2022-04-04  174.570007  178.490005  174.440002  178.440002  177.365570   \n",
       "3    2022-04-05  177.500000  178.300003  174.419998  175.059998  174.005905   \n",
       "4    2022-04-06  172.360001  173.630005  170.130005  171.830002  170.795380   \n",
       "..          ...         ...         ...         ...         ...         ...   \n",
       "246  2023-03-24  158.860001  160.339996  157.850006  160.250000  160.250000   \n",
       "247  2023-03-27  159.940002  160.770004  157.869995  158.279999  158.279999   \n",
       "248  2023-03-28  157.970001  158.490005  155.979996  157.649994  157.649994   \n",
       "249  2023-03-29  159.369995  161.050003  159.350006  160.770004  160.770004   \n",
       "250  2023-03-30  161.529999  162.470001  161.270004  162.360001  162.360001   \n",
       "\n",
       "        Volume  \n",
       "0    103049300  \n",
       "1     78751300  \n",
       "2     76468400  \n",
       "3     73401800  \n",
       "4     89058800  \n",
       "..         ...  \n",
       "246   59196500  \n",
       "247   52390300  \n",
       "248   45992200  \n",
       "249   51305700  \n",
       "250   49456700  \n",
       "\n",
       "[251 rows x 7 columns]"
      ]
     },
     "execution_count": 92,
     "metadata": {},
     "output_type": "execute_result"
    }
   ],
   "source": [
    "df[df['Open']>100]"
   ]
  },
  {
   "cell_type": "code",
   "execution_count": 95,
   "id": "55c24a91",
   "metadata": {},
   "outputs": [
    {
     "data": {
      "text/html": [
       "<div>\n",
       "<style scoped>\n",
       "    .dataframe tbody tr th:only-of-type {\n",
       "        vertical-align: middle;\n",
       "    }\n",
       "\n",
       "    .dataframe tbody tr th {\n",
       "        vertical-align: top;\n",
       "    }\n",
       "\n",
       "    .dataframe thead th {\n",
       "        text-align: right;\n",
       "    }\n",
       "</style>\n",
       "<table border=\"1\" class=\"dataframe\">\n",
       "  <thead>\n",
       "    <tr style=\"text-align: right;\">\n",
       "      <th></th>\n",
       "      <th>Date</th>\n",
       "      <th>Open</th>\n",
       "      <th>High</th>\n",
       "      <th>Low</th>\n",
       "      <th>Close</th>\n",
       "      <th>Adj Close</th>\n",
       "      <th>Volume</th>\n",
       "    </tr>\n",
       "  </thead>\n",
       "  <tbody>\n",
       "    <tr>\n",
       "      <th>0</th>\n",
       "      <td>2022-03-31</td>\n",
       "      <td>177.839996</td>\n",
       "      <td>178.029999</td>\n",
       "      <td>174.399994</td>\n",
       "      <td>174.610001</td>\n",
       "      <td>173.558640</td>\n",
       "      <td>103049300</td>\n",
       "    </tr>\n",
       "    <tr>\n",
       "      <th>1</th>\n",
       "      <td>2022-04-01</td>\n",
       "      <td>174.029999</td>\n",
       "      <td>174.880005</td>\n",
       "      <td>171.940002</td>\n",
       "      <td>174.309998</td>\n",
       "      <td>173.260422</td>\n",
       "      <td>78751300</td>\n",
       "    </tr>\n",
       "    <tr>\n",
       "      <th>2</th>\n",
       "      <td>2022-04-04</td>\n",
       "      <td>174.570007</td>\n",
       "      <td>178.490005</td>\n",
       "      <td>174.440002</td>\n",
       "      <td>178.440002</td>\n",
       "      <td>177.365570</td>\n",
       "      <td>76468400</td>\n",
       "    </tr>\n",
       "    <tr>\n",
       "      <th>3</th>\n",
       "      <td>2022-04-05</td>\n",
       "      <td>177.500000</td>\n",
       "      <td>178.300003</td>\n",
       "      <td>174.419998</td>\n",
       "      <td>175.059998</td>\n",
       "      <td>174.005905</td>\n",
       "      <td>73401800</td>\n",
       "    </tr>\n",
       "    <tr>\n",
       "      <th>4</th>\n",
       "      <td>2022-04-06</td>\n",
       "      <td>172.360001</td>\n",
       "      <td>173.630005</td>\n",
       "      <td>170.130005</td>\n",
       "      <td>171.830002</td>\n",
       "      <td>170.795380</td>\n",
       "      <td>89058800</td>\n",
       "    </tr>\n",
       "    <tr>\n",
       "      <th>5</th>\n",
       "      <td>2022-04-07</td>\n",
       "      <td>171.160004</td>\n",
       "      <td>173.360001</td>\n",
       "      <td>169.850006</td>\n",
       "      <td>172.139999</td>\n",
       "      <td>171.103500</td>\n",
       "      <td>77594700</td>\n",
       "    </tr>\n",
       "    <tr>\n",
       "      <th>6</th>\n",
       "      <td>2022-04-08</td>\n",
       "      <td>171.779999</td>\n",
       "      <td>171.779999</td>\n",
       "      <td>169.199997</td>\n",
       "      <td>170.089996</td>\n",
       "      <td>169.065857</td>\n",
       "      <td>76575500</td>\n",
       "    </tr>\n",
       "    <tr>\n",
       "      <th>10</th>\n",
       "      <td>2022-04-14</td>\n",
       "      <td>170.619995</td>\n",
       "      <td>171.270004</td>\n",
       "      <td>165.039993</td>\n",
       "      <td>165.289993</td>\n",
       "      <td>164.294739</td>\n",
       "      <td>75329400</td>\n",
       "    </tr>\n",
       "    <tr>\n",
       "      <th>91</th>\n",
       "      <td>2022-08-11</td>\n",
       "      <td>170.059998</td>\n",
       "      <td>170.990005</td>\n",
       "      <td>168.190002</td>\n",
       "      <td>168.490005</td>\n",
       "      <td>167.954529</td>\n",
       "      <td>57149200</td>\n",
       "    </tr>\n",
       "    <tr>\n",
       "      <th>93</th>\n",
       "      <td>2022-08-15</td>\n",
       "      <td>171.520004</td>\n",
       "      <td>173.389999</td>\n",
       "      <td>171.350006</td>\n",
       "      <td>173.190002</td>\n",
       "      <td>172.639587</td>\n",
       "      <td>54091700</td>\n",
       "    </tr>\n",
       "    <tr>\n",
       "      <th>94</th>\n",
       "      <td>2022-08-16</td>\n",
       "      <td>172.779999</td>\n",
       "      <td>173.710007</td>\n",
       "      <td>171.660004</td>\n",
       "      <td>173.029999</td>\n",
       "      <td>172.480087</td>\n",
       "      <td>56377100</td>\n",
       "    </tr>\n",
       "    <tr>\n",
       "      <th>95</th>\n",
       "      <td>2022-08-17</td>\n",
       "      <td>172.770004</td>\n",
       "      <td>176.149994</td>\n",
       "      <td>172.570007</td>\n",
       "      <td>174.550003</td>\n",
       "      <td>173.995270</td>\n",
       "      <td>79542000</td>\n",
       "    </tr>\n",
       "    <tr>\n",
       "      <th>96</th>\n",
       "      <td>2022-08-18</td>\n",
       "      <td>173.750000</td>\n",
       "      <td>174.899994</td>\n",
       "      <td>173.119995</td>\n",
       "      <td>174.149994</td>\n",
       "      <td>173.596527</td>\n",
       "      <td>62290100</td>\n",
       "    </tr>\n",
       "    <tr>\n",
       "      <th>97</th>\n",
       "      <td>2022-08-19</td>\n",
       "      <td>173.029999</td>\n",
       "      <td>173.740005</td>\n",
       "      <td>171.309998</td>\n",
       "      <td>171.520004</td>\n",
       "      <td>170.974899</td>\n",
       "      <td>70346300</td>\n",
       "    </tr>\n",
       "    <tr>\n",
       "      <th>102</th>\n",
       "      <td>2022-08-26</td>\n",
       "      <td>170.570007</td>\n",
       "      <td>171.050003</td>\n",
       "      <td>163.559998</td>\n",
       "      <td>163.619995</td>\n",
       "      <td>163.099991</td>\n",
       "      <td>78961000</td>\n",
       "    </tr>\n",
       "  </tbody>\n",
       "</table>\n",
       "</div>"
      ],
      "text/plain": [
       "           Date        Open        High         Low       Close   Adj Close  \\\n",
       "0    2022-03-31  177.839996  178.029999  174.399994  174.610001  173.558640   \n",
       "1    2022-04-01  174.029999  174.880005  171.940002  174.309998  173.260422   \n",
       "2    2022-04-04  174.570007  178.490005  174.440002  178.440002  177.365570   \n",
       "3    2022-04-05  177.500000  178.300003  174.419998  175.059998  174.005905   \n",
       "4    2022-04-06  172.360001  173.630005  170.130005  171.830002  170.795380   \n",
       "5    2022-04-07  171.160004  173.360001  169.850006  172.139999  171.103500   \n",
       "6    2022-04-08  171.779999  171.779999  169.199997  170.089996  169.065857   \n",
       "10   2022-04-14  170.619995  171.270004  165.039993  165.289993  164.294739   \n",
       "91   2022-08-11  170.059998  170.990005  168.190002  168.490005  167.954529   \n",
       "93   2022-08-15  171.520004  173.389999  171.350006  173.190002  172.639587   \n",
       "94   2022-08-16  172.779999  173.710007  171.660004  173.029999  172.480087   \n",
       "95   2022-08-17  172.770004  176.149994  172.570007  174.550003  173.995270   \n",
       "96   2022-08-18  173.750000  174.899994  173.119995  174.149994  173.596527   \n",
       "97   2022-08-19  173.029999  173.740005  171.309998  171.520004  170.974899   \n",
       "102  2022-08-26  170.570007  171.050003  163.559998  163.619995  163.099991   \n",
       "\n",
       "        Volume  \n",
       "0    103049300  \n",
       "1     78751300  \n",
       "2     76468400  \n",
       "3     73401800  \n",
       "4     89058800  \n",
       "5     77594700  \n",
       "6     76575500  \n",
       "10    75329400  \n",
       "91    57149200  \n",
       "93    54091700  \n",
       "94    56377100  \n",
       "95    79542000  \n",
       "96    62290100  \n",
       "97    70346300  \n",
       "102   78961000  "
      ]
     },
     "execution_count": 95,
     "metadata": {},
     "output_type": "execute_result"
    }
   ],
   "source": [
    "df[(df['Open']>170) & (df['Low']>150)]"
   ]
  },
  {
   "cell_type": "code",
   "execution_count": null,
   "id": "f4d7f6fa",
   "metadata": {},
   "outputs": [],
   "source": []
  },
  {
   "cell_type": "code",
   "execution_count": 97,
   "id": "c2caca6d",
   "metadata": {},
   "outputs": [
    {
     "data": {
      "text/plain": [
       "Index(['Date', 'Open', 'High', 'Low', 'Close', 'Adj Close', 'Volume'], dtype='object')"
      ]
     },
     "execution_count": 97,
     "metadata": {},
     "output_type": "execute_result"
    }
   ],
   "source": [
    "df.columns"
   ]
  },
  {
   "cell_type": "code",
   "execution_count": 99,
   "id": "2fc68a19",
   "metadata": {},
   "outputs": [
    {
     "data": {
      "text/plain": [
       "(251, 7)"
      ]
     },
     "execution_count": 99,
     "metadata": {},
     "output_type": "execute_result"
    }
   ],
   "source": [
    "df.shape"
   ]
  },
  {
   "cell_type": "code",
   "execution_count": 102,
   "id": "9185ed10",
   "metadata": {},
   "outputs": [],
   "source": [
    "df.drop('Date',axis=1,inplace=True)"
   ]
  },
  {
   "cell_type": "code",
   "execution_count": 103,
   "id": "fceb9621",
   "metadata": {},
   "outputs": [
    {
     "data": {
      "text/html": [
       "<div>\n",
       "<style scoped>\n",
       "    .dataframe tbody tr th:only-of-type {\n",
       "        vertical-align: middle;\n",
       "    }\n",
       "\n",
       "    .dataframe tbody tr th {\n",
       "        vertical-align: top;\n",
       "    }\n",
       "\n",
       "    .dataframe thead th {\n",
       "        text-align: right;\n",
       "    }\n",
       "</style>\n",
       "<table border=\"1\" class=\"dataframe\">\n",
       "  <thead>\n",
       "    <tr style=\"text-align: right;\">\n",
       "      <th></th>\n",
       "      <th>Open</th>\n",
       "      <th>High</th>\n",
       "      <th>Low</th>\n",
       "      <th>Close</th>\n",
       "      <th>Adj Close</th>\n",
       "      <th>Volume</th>\n",
       "    </tr>\n",
       "  </thead>\n",
       "  <tbody>\n",
       "    <tr>\n",
       "      <th>0</th>\n",
       "      <td>177.839996</td>\n",
       "      <td>178.029999</td>\n",
       "      <td>174.399994</td>\n",
       "      <td>174.610001</td>\n",
       "      <td>173.558640</td>\n",
       "      <td>103049300</td>\n",
       "    </tr>\n",
       "    <tr>\n",
       "      <th>1</th>\n",
       "      <td>174.029999</td>\n",
       "      <td>174.880005</td>\n",
       "      <td>171.940002</td>\n",
       "      <td>174.309998</td>\n",
       "      <td>173.260422</td>\n",
       "      <td>78751300</td>\n",
       "    </tr>\n",
       "    <tr>\n",
       "      <th>2</th>\n",
       "      <td>174.570007</td>\n",
       "      <td>178.490005</td>\n",
       "      <td>174.440002</td>\n",
       "      <td>178.440002</td>\n",
       "      <td>177.365570</td>\n",
       "      <td>76468400</td>\n",
       "    </tr>\n",
       "    <tr>\n",
       "      <th>3</th>\n",
       "      <td>177.500000</td>\n",
       "      <td>178.300003</td>\n",
       "      <td>174.419998</td>\n",
       "      <td>175.059998</td>\n",
       "      <td>174.005905</td>\n",
       "      <td>73401800</td>\n",
       "    </tr>\n",
       "    <tr>\n",
       "      <th>4</th>\n",
       "      <td>172.360001</td>\n",
       "      <td>173.630005</td>\n",
       "      <td>170.130005</td>\n",
       "      <td>171.830002</td>\n",
       "      <td>170.795380</td>\n",
       "      <td>89058800</td>\n",
       "    </tr>\n",
       "  </tbody>\n",
       "</table>\n",
       "</div>"
      ],
      "text/plain": [
       "         Open        High         Low       Close   Adj Close     Volume\n",
       "0  177.839996  178.029999  174.399994  174.610001  173.558640  103049300\n",
       "1  174.029999  174.880005  171.940002  174.309998  173.260422   78751300\n",
       "2  174.570007  178.490005  174.440002  178.440002  177.365570   76468400\n",
       "3  177.500000  178.300003  174.419998  175.059998  174.005905   73401800\n",
       "4  172.360001  173.630005  170.130005  171.830002  170.795380   89058800"
      ]
     },
     "execution_count": 103,
     "metadata": {},
     "output_type": "execute_result"
    }
   ],
   "source": [
    "df.head()"
   ]
  },
  {
   "cell_type": "code",
   "execution_count": 105,
   "id": "3d7efcb7",
   "metadata": {},
   "outputs": [],
   "source": [
    "df = df.drop('High',axis=1)"
   ]
  },
  {
   "cell_type": "code",
   "execution_count": 106,
   "id": "1e09727e",
   "metadata": {},
   "outputs": [
    {
     "data": {
      "text/html": [
       "<div>\n",
       "<style scoped>\n",
       "    .dataframe tbody tr th:only-of-type {\n",
       "        vertical-align: middle;\n",
       "    }\n",
       "\n",
       "    .dataframe tbody tr th {\n",
       "        vertical-align: top;\n",
       "    }\n",
       "\n",
       "    .dataframe thead th {\n",
       "        text-align: right;\n",
       "    }\n",
       "</style>\n",
       "<table border=\"1\" class=\"dataframe\">\n",
       "  <thead>\n",
       "    <tr style=\"text-align: right;\">\n",
       "      <th></th>\n",
       "      <th>Open</th>\n",
       "      <th>Low</th>\n",
       "      <th>Close</th>\n",
       "      <th>Adj Close</th>\n",
       "      <th>Volume</th>\n",
       "    </tr>\n",
       "  </thead>\n",
       "  <tbody>\n",
       "    <tr>\n",
       "      <th>0</th>\n",
       "      <td>177.839996</td>\n",
       "      <td>174.399994</td>\n",
       "      <td>174.610001</td>\n",
       "      <td>173.558640</td>\n",
       "      <td>103049300</td>\n",
       "    </tr>\n",
       "    <tr>\n",
       "      <th>1</th>\n",
       "      <td>174.029999</td>\n",
       "      <td>171.940002</td>\n",
       "      <td>174.309998</td>\n",
       "      <td>173.260422</td>\n",
       "      <td>78751300</td>\n",
       "    </tr>\n",
       "    <tr>\n",
       "      <th>2</th>\n",
       "      <td>174.570007</td>\n",
       "      <td>174.440002</td>\n",
       "      <td>178.440002</td>\n",
       "      <td>177.365570</td>\n",
       "      <td>76468400</td>\n",
       "    </tr>\n",
       "    <tr>\n",
       "      <th>3</th>\n",
       "      <td>177.500000</td>\n",
       "      <td>174.419998</td>\n",
       "      <td>175.059998</td>\n",
       "      <td>174.005905</td>\n",
       "      <td>73401800</td>\n",
       "    </tr>\n",
       "    <tr>\n",
       "      <th>4</th>\n",
       "      <td>172.360001</td>\n",
       "      <td>170.130005</td>\n",
       "      <td>171.830002</td>\n",
       "      <td>170.795380</td>\n",
       "      <td>89058800</td>\n",
       "    </tr>\n",
       "  </tbody>\n",
       "</table>\n",
       "</div>"
      ],
      "text/plain": [
       "         Open         Low       Close   Adj Close     Volume\n",
       "0  177.839996  174.399994  174.610001  173.558640  103049300\n",
       "1  174.029999  171.940002  174.309998  173.260422   78751300\n",
       "2  174.570007  174.440002  178.440002  177.365570   76468400\n",
       "3  177.500000  174.419998  175.059998  174.005905   73401800\n",
       "4  172.360001  170.130005  171.830002  170.795380   89058800"
      ]
     },
     "execution_count": 106,
     "metadata": {},
     "output_type": "execute_result"
    }
   ],
   "source": [
    "df.head()"
   ]
  },
  {
   "cell_type": "code",
   "execution_count": 107,
   "id": "257e4bef",
   "metadata": {},
   "outputs": [],
   "source": [
    "list_col = ['Open','Low','Close']\n",
    "df = df.drop(list_col,axis=1)"
   ]
  },
  {
   "cell_type": "code",
   "execution_count": 110,
   "id": "814b44b2",
   "metadata": {},
   "outputs": [
    {
     "data": {
      "text/html": [
       "<div>\n",
       "<style scoped>\n",
       "    .dataframe tbody tr th:only-of-type {\n",
       "        vertical-align: middle;\n",
       "    }\n",
       "\n",
       "    .dataframe tbody tr th {\n",
       "        vertical-align: top;\n",
       "    }\n",
       "\n",
       "    .dataframe thead th {\n",
       "        text-align: right;\n",
       "    }\n",
       "</style>\n",
       "<table border=\"1\" class=\"dataframe\">\n",
       "  <thead>\n",
       "    <tr style=\"text-align: right;\">\n",
       "      <th></th>\n",
       "      <th>Date</th>\n",
       "      <th>Open</th>\n",
       "      <th>High</th>\n",
       "      <th>Low</th>\n",
       "      <th>Close</th>\n",
       "      <th>Adj Close</th>\n",
       "      <th>Volume</th>\n",
       "    </tr>\n",
       "  </thead>\n",
       "  <tbody>\n",
       "    <tr>\n",
       "      <th>0</th>\n",
       "      <td>2022-03-31</td>\n",
       "      <td>177.839996</td>\n",
       "      <td>178.029999</td>\n",
       "      <td>174.399994</td>\n",
       "      <td>174.610001</td>\n",
       "      <td>173.558640</td>\n",
       "      <td>103049300</td>\n",
       "    </tr>\n",
       "    <tr>\n",
       "      <th>1</th>\n",
       "      <td>2022-04-01</td>\n",
       "      <td>174.029999</td>\n",
       "      <td>174.880005</td>\n",
       "      <td>171.940002</td>\n",
       "      <td>174.309998</td>\n",
       "      <td>173.260422</td>\n",
       "      <td>78751300</td>\n",
       "    </tr>\n",
       "    <tr>\n",
       "      <th>2</th>\n",
       "      <td>2022-04-04</td>\n",
       "      <td>174.570007</td>\n",
       "      <td>178.490005</td>\n",
       "      <td>174.440002</td>\n",
       "      <td>178.440002</td>\n",
       "      <td>177.365570</td>\n",
       "      <td>76468400</td>\n",
       "    </tr>\n",
       "    <tr>\n",
       "      <th>3</th>\n",
       "      <td>2022-04-05</td>\n",
       "      <td>177.500000</td>\n",
       "      <td>178.300003</td>\n",
       "      <td>174.419998</td>\n",
       "      <td>175.059998</td>\n",
       "      <td>174.005905</td>\n",
       "      <td>73401800</td>\n",
       "    </tr>\n",
       "    <tr>\n",
       "      <th>4</th>\n",
       "      <td>2022-04-06</td>\n",
       "      <td>172.360001</td>\n",
       "      <td>173.630005</td>\n",
       "      <td>170.130005</td>\n",
       "      <td>171.830002</td>\n",
       "      <td>170.795380</td>\n",
       "      <td>89058800</td>\n",
       "    </tr>\n",
       "  </tbody>\n",
       "</table>\n",
       "</div>"
      ],
      "text/plain": [
       "         Date        Open        High         Low       Close   Adj Close  \\\n",
       "0  2022-03-31  177.839996  178.029999  174.399994  174.610001  173.558640   \n",
       "1  2022-04-01  174.029999  174.880005  171.940002  174.309998  173.260422   \n",
       "2  2022-04-04  174.570007  178.490005  174.440002  178.440002  177.365570   \n",
       "3  2022-04-05  177.500000  178.300003  174.419998  175.059998  174.005905   \n",
       "4  2022-04-06  172.360001  173.630005  170.130005  171.830002  170.795380   \n",
       "\n",
       "      Volume  \n",
       "0  103049300  \n",
       "1   78751300  \n",
       "2   76468400  \n",
       "3   73401800  \n",
       "4   89058800  "
      ]
     },
     "execution_count": 110,
     "metadata": {},
     "output_type": "execute_result"
    }
   ],
   "source": [
    "df.head()"
   ]
  },
  {
   "cell_type": "code",
   "execution_count": 112,
   "id": "19f7ffa1",
   "metadata": {},
   "outputs": [],
   "source": [
    "list_col = ['Close','Open']\n",
    "df = df.drop(list_col,axis=1)"
   ]
  },
  {
   "cell_type": "code",
   "execution_count": 117,
   "id": "ba19ece5",
   "metadata": {},
   "outputs": [
    {
     "data": {
      "text/html": [
       "<div>\n",
       "<style scoped>\n",
       "    .dataframe tbody tr th:only-of-type {\n",
       "        vertical-align: middle;\n",
       "    }\n",
       "\n",
       "    .dataframe tbody tr th {\n",
       "        vertical-align: top;\n",
       "    }\n",
       "\n",
       "    .dataframe thead th {\n",
       "        text-align: right;\n",
       "    }\n",
       "</style>\n",
       "<table border=\"1\" class=\"dataframe\">\n",
       "  <thead>\n",
       "    <tr style=\"text-align: right;\">\n",
       "      <th></th>\n",
       "      <th>Date</th>\n",
       "      <th>High</th>\n",
       "      <th>Low</th>\n",
       "      <th>Adj Close</th>\n",
       "      <th>Volume</th>\n",
       "      <th>value</th>\n",
       "    </tr>\n",
       "  </thead>\n",
       "  <tbody>\n",
       "    <tr>\n",
       "      <th>0</th>\n",
       "      <td>2022-03-31</td>\n",
       "      <td>178.029999</td>\n",
       "      <td>174.399994</td>\n",
       "      <td>173.558640</td>\n",
       "      <td>103049300</td>\n",
       "      <td>356.059998</td>\n",
       "    </tr>\n",
       "    <tr>\n",
       "      <th>1</th>\n",
       "      <td>2022-04-01</td>\n",
       "      <td>174.880005</td>\n",
       "      <td>171.940002</td>\n",
       "      <td>173.260422</td>\n",
       "      <td>78751300</td>\n",
       "      <td>349.760010</td>\n",
       "    </tr>\n",
       "    <tr>\n",
       "      <th>2</th>\n",
       "      <td>2022-04-04</td>\n",
       "      <td>178.490005</td>\n",
       "      <td>174.440002</td>\n",
       "      <td>177.365570</td>\n",
       "      <td>76468400</td>\n",
       "      <td>356.980010</td>\n",
       "    </tr>\n",
       "    <tr>\n",
       "      <th>3</th>\n",
       "      <td>2022-04-05</td>\n",
       "      <td>178.300003</td>\n",
       "      <td>174.419998</td>\n",
       "      <td>174.005905</td>\n",
       "      <td>73401800</td>\n",
       "      <td>356.600006</td>\n",
       "    </tr>\n",
       "    <tr>\n",
       "      <th>4</th>\n",
       "      <td>2022-04-06</td>\n",
       "      <td>173.630005</td>\n",
       "      <td>170.130005</td>\n",
       "      <td>170.795380</td>\n",
       "      <td>89058800</td>\n",
       "      <td>347.260010</td>\n",
       "    </tr>\n",
       "  </tbody>\n",
       "</table>\n",
       "</div>"
      ],
      "text/plain": [
       "         Date        High         Low   Adj Close     Volume       value\n",
       "0  2022-03-31  178.029999  174.399994  173.558640  103049300  356.059998\n",
       "1  2022-04-01  174.880005  171.940002  173.260422   78751300  349.760010\n",
       "2  2022-04-04  178.490005  174.440002  177.365570   76468400  356.980010\n",
       "3  2022-04-05  178.300003  174.419998  174.005905   73401800  356.600006\n",
       "4  2022-04-06  173.630005  170.130005  170.795380   89058800  347.260010"
      ]
     },
     "execution_count": 117,
     "metadata": {},
     "output_type": "execute_result"
    }
   ],
   "source": [
    "df.head()"
   ]
  },
  {
   "cell_type": "code",
   "execution_count": 116,
   "id": "1b56a21a",
   "metadata": {},
   "outputs": [],
   "source": [
    "df[\"value\"] = df['High']*2"
   ]
  },
  {
   "cell_type": "code",
   "execution_count": 118,
   "id": "aef1ba18",
   "metadata": {},
   "outputs": [],
   "source": [
    "df[\"New\"] = df[\"Low\"]*5"
   ]
  },
  {
   "cell_type": "code",
   "execution_count": 120,
   "id": "b94f5c1a",
   "metadata": {},
   "outputs": [
    {
     "data": {
      "text/html": [
       "<div>\n",
       "<style scoped>\n",
       "    .dataframe tbody tr th:only-of-type {\n",
       "        vertical-align: middle;\n",
       "    }\n",
       "\n",
       "    .dataframe tbody tr th {\n",
       "        vertical-align: top;\n",
       "    }\n",
       "\n",
       "    .dataframe thead th {\n",
       "        text-align: right;\n",
       "    }\n",
       "</style>\n",
       "<table border=\"1\" class=\"dataframe\">\n",
       "  <thead>\n",
       "    <tr style=\"text-align: right;\">\n",
       "      <th></th>\n",
       "      <th>Date</th>\n",
       "      <th>High</th>\n",
       "      <th>Low</th>\n",
       "      <th>Adj Close</th>\n",
       "      <th>Volume</th>\n",
       "      <th>value</th>\n",
       "      <th>New</th>\n",
       "    </tr>\n",
       "  </thead>\n",
       "  <tbody>\n",
       "    <tr>\n",
       "      <th>0</th>\n",
       "      <td>2022-03-31</td>\n",
       "      <td>178.029999</td>\n",
       "      <td>174.399994</td>\n",
       "      <td>173.558640</td>\n",
       "      <td>103049300</td>\n",
       "      <td>356.059998</td>\n",
       "      <td>871.999970</td>\n",
       "    </tr>\n",
       "    <tr>\n",
       "      <th>1</th>\n",
       "      <td>2022-04-01</td>\n",
       "      <td>174.880005</td>\n",
       "      <td>171.940002</td>\n",
       "      <td>173.260422</td>\n",
       "      <td>78751300</td>\n",
       "      <td>349.760010</td>\n",
       "      <td>859.700010</td>\n",
       "    </tr>\n",
       "    <tr>\n",
       "      <th>2</th>\n",
       "      <td>2022-04-04</td>\n",
       "      <td>178.490005</td>\n",
       "      <td>174.440002</td>\n",
       "      <td>177.365570</td>\n",
       "      <td>76468400</td>\n",
       "      <td>356.980010</td>\n",
       "      <td>872.200010</td>\n",
       "    </tr>\n",
       "    <tr>\n",
       "      <th>3</th>\n",
       "      <td>2022-04-05</td>\n",
       "      <td>178.300003</td>\n",
       "      <td>174.419998</td>\n",
       "      <td>174.005905</td>\n",
       "      <td>73401800</td>\n",
       "      <td>356.600006</td>\n",
       "      <td>872.099990</td>\n",
       "    </tr>\n",
       "    <tr>\n",
       "      <th>4</th>\n",
       "      <td>2022-04-06</td>\n",
       "      <td>173.630005</td>\n",
       "      <td>170.130005</td>\n",
       "      <td>170.795380</td>\n",
       "      <td>89058800</td>\n",
       "      <td>347.260010</td>\n",
       "      <td>850.650025</td>\n",
       "    </tr>\n",
       "  </tbody>\n",
       "</table>\n",
       "</div>"
      ],
      "text/plain": [
       "         Date        High         Low   Adj Close     Volume       value  \\\n",
       "0  2022-03-31  178.029999  174.399994  173.558640  103049300  356.059998   \n",
       "1  2022-04-01  174.880005  171.940002  173.260422   78751300  349.760010   \n",
       "2  2022-04-04  178.490005  174.440002  177.365570   76468400  356.980010   \n",
       "3  2022-04-05  178.300003  174.419998  174.005905   73401800  356.600006   \n",
       "4  2022-04-06  173.630005  170.130005  170.795380   89058800  347.260010   \n",
       "\n",
       "          New  \n",
       "0  871.999970  \n",
       "1  859.700010  \n",
       "2  872.200010  \n",
       "3  872.099990  \n",
       "4  850.650025  "
      ]
     },
     "execution_count": 120,
     "metadata": {},
     "output_type": "execute_result"
    }
   ],
   "source": [
    "df.head()"
   ]
  },
  {
   "cell_type": "code",
   "execution_count": null,
   "id": "89d66fba",
   "metadata": {},
   "outputs": [],
   "source": [
    "datetime function"
   ]
  },
  {
   "cell_type": "code",
   "execution_count": null,
   "id": "7f52e7cb",
   "metadata": {},
   "outputs": [],
   "source": []
  },
  {
   "cell_type": "markdown",
   "id": "a558faf1",
   "metadata": {},
   "source": [
    "# ------------------------------- rev-----------"
   ]
  },
  {
   "cell_type": "code",
   "execution_count": 1,
   "id": "b45b98f3",
   "metadata": {},
   "outputs": [],
   "source": [
    "import numpy as np"
   ]
  },
  {
   "cell_type": "code",
   "execution_count": null,
   "id": "c09ecbd3",
   "metadata": {},
   "outputs": [],
   "source": []
  },
  {
   "cell_type": "code",
   "execution_count": 9,
   "id": "eade03e0",
   "metadata": {},
   "outputs": [
    {
     "data": {
      "text/plain": [
       "array([0., 0., 0., 0., 0.])"
      ]
     },
     "execution_count": 9,
     "metadata": {},
     "output_type": "execute_result"
    }
   ],
   "source": [
    "x = np.zeros(5)\n",
    "x"
   ]
  },
  {
   "cell_type": "code",
   "execution_count": 12,
   "id": "b22a8867",
   "metadata": {},
   "outputs": [
    {
     "data": {
      "text/plain": [
       "array([2, 5, 7, 8])"
      ]
     },
     "execution_count": 12,
     "metadata": {},
     "output_type": "execute_result"
    }
   ],
   "source": [
    "x = np.array([2,5,7,8])\n",
    "x"
   ]
  },
  {
   "cell_type": "code",
   "execution_count": 30,
   "id": "225ecddf",
   "metadata": {},
   "outputs": [
    {
     "data": {
      "text/plain": [
       "array([ 0. ,  0.2,  0.4,  0.6,  0.8,  1. ,  1.2,  1.4,  1.6,  1.8,  2. ,\n",
       "        2.2,  2.4,  2.6,  2.8,  3. ,  3.2,  3.4,  3.6,  3.8,  4. ,  4.2,\n",
       "        4.4,  4.6,  4.8,  5. ,  5.2,  5.4,  5.6,  5.8,  6. ,  6.2,  6.4,\n",
       "        6.6,  6.8,  7. ,  7.2,  7.4,  7.6,  7.8,  8. ,  8.2,  8.4,  8.6,\n",
       "        8.8,  9. ,  9.2,  9.4,  9.6,  9.8, 10. , 10.2, 10.4, 10.6, 10.8,\n",
       "       11. , 11.2, 11.4, 11.6, 11.8])"
      ]
     },
     "execution_count": 30,
     "metadata": {},
     "output_type": "execute_result"
    }
   ],
   "source": [
    "x = np.arange(60)\n",
    "y  = x * 0.20\n",
    "y"
   ]
  },
  {
   "cell_type": "code",
   "execution_count": 31,
   "id": "cc583a9e",
   "metadata": {},
   "outputs": [
    {
     "data": {
      "text/plain": [
       "array([ 0. ,  0.8,  1.6,  2.4,  3.2,  4. ,  4.8,  5.6,  6.4,  7.2,  8. ,\n",
       "        8.8,  9.6, 10.4, 11.2, 12. , 12.8, 13.6, 14.4, 15.2, 16. , 16.8,\n",
       "       17.6, 18.4, 19.2, 20. , 20.8, 21.6, 22.4, 23.2, 24. , 24.8, 25.6,\n",
       "       26.4, 27.2, 28. , 28.8, 29.6, 30.4, 31.2, 32. , 32.8, 33.6, 34.4,\n",
       "       35.2, 36. , 36.8, 37.6, 38.4, 39.2, 40. , 40.8, 41.6, 42.4, 43.2,\n",
       "       44. , 44.8, 45.6, 46.4, 47.2])"
      ]
     },
     "execution_count": 31,
     "metadata": {},
     "output_type": "execute_result"
    }
   ],
   "source": [
    "x-y"
   ]
  },
  {
   "cell_type": "code",
   "execution_count": 32,
   "id": "95bac28f",
   "metadata": {},
   "outputs": [],
   "source": [
    "al = []\n",
    "for i in range(50):\n",
    "    al.append(i)\n",
    "\n",
    "     "
   ]
  },
  {
   "cell_type": "code",
   "execution_count": 36,
   "id": "da1db60a",
   "metadata": {},
   "outputs": [
    {
     "data": {
      "text/plain": [
       "array([ 0,  1,  2,  3,  4,  5,  6,  7,  8,  9, 10, 11, 12, 13, 14, 15, 16,\n",
       "       17, 18, 19, 20, 21, 22, 23, 24, 25, 26, 27, 28, 29, 30, 31, 32, 33,\n",
       "       34, 35, 36, 37, 38, 39, 40, 41, 42, 43, 44, 45, 46, 47, 48, 49, 50,\n",
       "       51, 52, 53, 54, 55, 56, 57, 58, 59, 60, 61, 62, 63, 64, 65, 66, 67,\n",
       "       68, 69, 70, 71, 72, 73, 74, 75, 76, 77, 78, 79, 80, 81, 82, 83, 84,\n",
       "       85, 86, 87, 88, 89, 90, 91, 92, 93, 94, 95, 96, 97, 98, 99])"
      ]
     },
     "execution_count": 36,
     "metadata": {},
     "output_type": "execute_result"
    }
   ],
   "source": [
    "x = np.arange(100)\n",
    "x"
   ]
  },
  {
   "cell_type": "code",
   "execution_count": 38,
   "id": "09f939bb",
   "metadata": {},
   "outputs": [
    {
     "data": {
      "text/plain": [
       "array([ 0. ,  0.5,  1. ,  1.5,  2. ,  2.5,  3. ,  3.5,  4. ,  4.5,  5. ,\n",
       "        5.5,  6. ,  6.5,  7. ,  7.5,  8. ,  8.5,  9. ,  9.5, 10. , 10.5,\n",
       "       11. , 11.5, 12. , 12.5, 13. , 13.5, 14. , 14.5, 15. , 15.5, 16. ,\n",
       "       16.5, 17. , 17.5, 18. , 18.5, 19. , 19.5, 20. , 20.5, 21. , 21.5,\n",
       "       22. , 22.5, 23. , 23.5, 24. , 24.5, 25. , 25.5, 26. , 26.5, 27. ,\n",
       "       27.5, 28. , 28.5, 29. , 29.5, 30. , 30.5, 31. , 31.5, 32. , 32.5,\n",
       "       33. , 33.5, 34. , 34.5, 35. , 35.5, 36. , 36.5, 37. , 37.5, 38. ,\n",
       "       38.5, 39. , 39.5, 40. , 40.5, 41. , 41.5, 42. , 42.5, 43. , 43.5,\n",
       "       44. , 44.5, 45. , 45.5, 46. , 46.5, 47. , 47.5, 48. , 48.5, 49. ,\n",
       "       49.5])"
      ]
     },
     "execution_count": 38,
     "metadata": {},
     "output_type": "execute_result"
    }
   ],
   "source": [
    "y= x*0.5\n",
    "\n",
    "y"
   ]
  },
  {
   "cell_type": "code",
   "execution_count": 39,
   "id": "a4b262ba",
   "metadata": {},
   "outputs": [
    {
     "data": {
      "text/plain": [
       "array([ 0. ,  0.5,  1. ,  1.5,  2. ,  2.5,  3. ,  3.5,  4. ,  4.5,  5. ,\n",
       "        5.5,  6. ,  6.5,  7. ,  7.5,  8. ,  8.5,  9. ,  9.5, 10. , 10.5,\n",
       "       11. , 11.5, 12. , 12.5, 13. , 13.5, 14. , 14.5, 15. , 15.5, 16. ,\n",
       "       16.5, 17. , 17.5, 18. , 18.5, 19. , 19.5, 20. , 20.5, 21. , 21.5,\n",
       "       22. , 22.5, 23. , 23.5, 24. , 24.5, 25. , 25.5, 26. , 26.5, 27. ,\n",
       "       27.5, 28. , 28.5, 29. , 29.5, 30. , 30.5, 31. , 31.5, 32. , 32.5,\n",
       "       33. , 33.5, 34. , 34.5, 35. , 35.5, 36. , 36.5, 37. , 37.5, 38. ,\n",
       "       38.5, 39. , 39.5, 40. , 40.5, 41. , 41.5, 42. , 42.5, 43. , 43.5,\n",
       "       44. , 44.5, 45. , 45.5, 46. , 46.5, 47. , 47.5, 48. , 48.5, 49. ,\n",
       "       49.5])"
      ]
     },
     "execution_count": 39,
     "metadata": {},
     "output_type": "execute_result"
    }
   ],
   "source": [
    "x-y"
   ]
  },
  {
   "cell_type": "code",
   "execution_count": 44,
   "id": "6cfc9fcf",
   "metadata": {},
   "outputs": [
    {
     "data": {
      "text/plain": [
       "array([ 20.        ,  21.63265306,  23.26530612,  24.89795918,\n",
       "        26.53061224,  28.16326531,  29.79591837,  31.42857143,\n",
       "        33.06122449,  34.69387755,  36.32653061,  37.95918367,\n",
       "        39.59183673,  41.2244898 ,  42.85714286,  44.48979592,\n",
       "        46.12244898,  47.75510204,  49.3877551 ,  51.02040816,\n",
       "        52.65306122,  54.28571429,  55.91836735,  57.55102041,\n",
       "        59.18367347,  60.81632653,  62.44897959,  64.08163265,\n",
       "        65.71428571,  67.34693878,  68.97959184,  70.6122449 ,\n",
       "        72.24489796,  73.87755102,  75.51020408,  77.14285714,\n",
       "        78.7755102 ,  80.40816327,  82.04081633,  83.67346939,\n",
       "        85.30612245,  86.93877551,  88.57142857,  90.20408163,\n",
       "        91.83673469,  93.46938776,  95.10204082,  96.73469388,\n",
       "        98.36734694, 100.        ])"
      ]
     },
     "execution_count": 44,
     "metadata": {},
     "output_type": "execute_result"
    }
   ],
   "source": [
    "x = np.linspace(20,100,num = 50)\n",
    "x"
   ]
  },
  {
   "cell_type": "code",
   "execution_count": 46,
   "id": "35930f48",
   "metadata": {},
   "outputs": [
    {
     "data": {
      "text/plain": [
       "array([5, 3, 8, 0, 9])"
      ]
     },
     "execution_count": 46,
     "metadata": {},
     "output_type": "execute_result"
    }
   ],
   "source": [
    "x = np.array([5,3,8,0,9])\n",
    "x"
   ]
  },
  {
   "cell_type": "code",
   "execution_count": 48,
   "id": "7783fba2",
   "metadata": {},
   "outputs": [
    {
     "data": {
      "text/plain": [
       "array([0, 3, 5, 8, 9])"
      ]
     },
     "execution_count": 48,
     "metadata": {},
     "output_type": "execute_result"
    }
   ],
   "source": [
    "np.sort(x)"
   ]
  },
  {
   "cell_type": "code",
   "execution_count": 49,
   "id": "65028c60",
   "metadata": {},
   "outputs": [],
   "source": [
    "x= np.array([2,1,6,4,8,9])"
   ]
  },
  {
   "cell_type": "code",
   "execution_count": 54,
   "id": "7b4fe2fa",
   "metadata": {},
   "outputs": [],
   "source": [
    "y = np.sort(x)"
   ]
  },
  {
   "cell_type": "code",
   "execution_count": 53,
   "id": "29d6d0ea",
   "metadata": {},
   "outputs": [
    {
     "data": {
      "text/plain": [
       "array([1, 2, 4, 6, 8, 9])"
      ]
     },
     "execution_count": 53,
     "metadata": {},
     "output_type": "execute_result"
    }
   ],
   "source": [
    "x\n"
   ]
  },
  {
   "cell_type": "code",
   "execution_count": 55,
   "id": "c08952b8",
   "metadata": {},
   "outputs": [
    {
     "data": {
      "text/plain": [
       "array([1, 2, 4, 6, 8, 9])"
      ]
     },
     "execution_count": 55,
     "metadata": {},
     "output_type": "execute_result"
    }
   ],
   "source": [
    "y"
   ]
  },
  {
   "cell_type": "code",
   "execution_count": 78,
   "id": "c9085d94",
   "metadata": {},
   "outputs": [
    {
     "data": {
      "text/plain": [
       "array([[4, 6],\n",
       "       [7, 9]])"
      ]
     },
     "execution_count": 78,
     "metadata": {},
     "output_type": "execute_result"
    }
   ],
   "source": [
    "x = np.array([[4,6],\n",
    "              [7,9]])\n",
    "x"
   ]
  },
  {
   "cell_type": "code",
   "execution_count": 79,
   "id": "a303e67e",
   "metadata": {},
   "outputs": [
    {
     "data": {
      "text/plain": [
       "array([[1, 1],\n",
       "       [1, 3]])"
      ]
     },
     "execution_count": 79,
     "metadata": {},
     "output_type": "execute_result"
    }
   ],
   "source": [
    "y = np.array([[1,1],\n",
    "              [1,3]])\n",
    "y"
   ]
  },
  {
   "cell_type": "code",
   "execution_count": 61,
   "id": "89a6d3ae",
   "metadata": {},
   "outputs": [
    {
     "data": {
      "text/plain": [
       "array([[ 4,  6],\n",
       "       [ 7, 27],\n",
       "       [ 5,  2]])"
      ]
     },
     "execution_count": 61,
     "metadata": {},
     "output_type": "execute_result"
    }
   ],
   "source": [
    "x*y"
   ]
  },
  {
   "cell_type": "code",
   "execution_count": 64,
   "id": "e94de8c9",
   "metadata": {},
   "outputs": [
    {
     "data": {
      "text/plain": [
       "array([4, 6, 7])"
      ]
     },
     "execution_count": 64,
     "metadata": {},
     "output_type": "execute_result"
    }
   ],
   "source": [
    "x = np.array([4,6,7])\n",
    "x"
   ]
  },
  {
   "cell_type": "code",
   "execution_count": 65,
   "id": "897a736e",
   "metadata": {},
   "outputs": [
    {
     "data": {
      "text/plain": [
       "array([-0.7568025, -0.2794155,  0.6569866])"
      ]
     },
     "execution_count": 65,
     "metadata": {},
     "output_type": "execute_result"
    }
   ],
   "source": [
    "np.sin(x)"
   ]
  },
  {
   "cell_type": "code",
   "execution_count": 66,
   "id": "a6a9211b",
   "metadata": {},
   "outputs": [
    {
     "data": {
      "text/plain": [
       "array([4, 6, 7])"
      ]
     },
     "execution_count": 66,
     "metadata": {},
     "output_type": "execute_result"
    }
   ],
   "source": [
    "x"
   ]
  },
  {
   "cell_type": "code",
   "execution_count": 80,
   "id": "951dc232",
   "metadata": {},
   "outputs": [
    {
     "data": {
      "text/plain": [
       "array([[10, 22],\n",
       "       [16, 34]])"
      ]
     },
     "execution_count": 80,
     "metadata": {},
     "output_type": "execute_result"
    }
   ],
   "source": [
    "x @ y"
   ]
  },
  {
   "cell_type": "code",
   "execution_count": null,
   "id": "17475d54",
   "metadata": {},
   "outputs": [],
   "source": [
    "\n"
   ]
  }
 ],
 "metadata": {
  "kernelspec": {
   "display_name": "Python 3 (ipykernel)",
   "language": "python",
   "name": "python3"
  },
  "language_info": {
   "codemirror_mode": {
    "name": "ipython",
    "version": 3
   },
   "file_extension": ".py",
   "mimetype": "text/x-python",
   "name": "python",
   "nbconvert_exporter": "python",
   "pygments_lexer": "ipython3",
   "version": "3.9.13"
  }
 },
 "nbformat": 4,
 "nbformat_minor": 5
}
